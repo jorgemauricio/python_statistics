{
 "cells": [
  {
   "cell_type": "markdown",
   "metadata": {},
   "source": [
    "# Estadística con Python\n",
    "\n",
    "### GitHub repository: https://github.com/jorgemauricio/python_statistics\n",
    "\n",
    "### Instructor: Jorge Mauricio"
   ]
  },
  {
   "cell_type": "markdown",
   "metadata": {},
   "source": [
    "## Regresión Multivariable\n"
   ]
  },
  {
   "cell_type": "code",
   "execution_count": 8,
   "metadata": {},
   "outputs": [],
   "source": [
    "# librerías\n",
    "import pandas as pd\n",
    "import numpy as np\n",
    "import matplotlib.pyplot as plt\n",
    "%matplotlib inline"
   ]
  },
  {
   "cell_type": "code",
   "execution_count": 9,
   "metadata": {},
   "outputs": [
    {
     "data": {
      "text/html": [
       "<div>\n",
       "<style scoped>\n",
       "    .dataframe tbody tr th:only-of-type {\n",
       "        vertical-align: middle;\n",
       "    }\n",
       "\n",
       "    .dataframe tbody tr th {\n",
       "        vertical-align: top;\n",
       "    }\n",
       "\n",
       "    .dataframe thead th {\n",
       "        text-align: right;\n",
       "    }\n",
       "</style>\n",
       "<table border=\"1\" class=\"dataframe\">\n",
       "  <thead>\n",
       "    <tr style=\"text-align: right;\">\n",
       "      <th></th>\n",
       "      <th>Precio_dlls</th>\n",
       "      <th>Kilometraje</th>\n",
       "      <th>Marca</th>\n",
       "      <th>Modelo</th>\n",
       "      <th>Clasificacion</th>\n",
       "      <th>Tipo</th>\n",
       "      <th>Cilindros</th>\n",
       "      <th>Litros</th>\n",
       "      <th>Puertas</th>\n",
       "      <th>Cruzero</th>\n",
       "      <th>Sonido</th>\n",
       "      <th>Piel</th>\n",
       "    </tr>\n",
       "  </thead>\n",
       "  <tbody>\n",
       "    <tr>\n",
       "      <th>0</th>\n",
       "      <td>17314.103129</td>\n",
       "      <td>8221</td>\n",
       "      <td>Buick</td>\n",
       "      <td>Century</td>\n",
       "      <td>Sedan 4D</td>\n",
       "      <td>Sedan</td>\n",
       "      <td>6</td>\n",
       "      <td>3.1</td>\n",
       "      <td>4</td>\n",
       "      <td>1</td>\n",
       "      <td>1</td>\n",
       "      <td>1</td>\n",
       "    </tr>\n",
       "    <tr>\n",
       "      <th>1</th>\n",
       "      <td>17542.036083</td>\n",
       "      <td>9135</td>\n",
       "      <td>Buick</td>\n",
       "      <td>Century</td>\n",
       "      <td>Sedan 4D</td>\n",
       "      <td>Sedan</td>\n",
       "      <td>6</td>\n",
       "      <td>3.1</td>\n",
       "      <td>4</td>\n",
       "      <td>1</td>\n",
       "      <td>1</td>\n",
       "      <td>0</td>\n",
       "    </tr>\n",
       "    <tr>\n",
       "      <th>2</th>\n",
       "      <td>16218.847862</td>\n",
       "      <td>13196</td>\n",
       "      <td>Buick</td>\n",
       "      <td>Century</td>\n",
       "      <td>Sedan 4D</td>\n",
       "      <td>Sedan</td>\n",
       "      <td>6</td>\n",
       "      <td>3.1</td>\n",
       "      <td>4</td>\n",
       "      <td>1</td>\n",
       "      <td>1</td>\n",
       "      <td>0</td>\n",
       "    </tr>\n",
       "    <tr>\n",
       "      <th>3</th>\n",
       "      <td>16336.913140</td>\n",
       "      <td>16342</td>\n",
       "      <td>Buick</td>\n",
       "      <td>Century</td>\n",
       "      <td>Sedan 4D</td>\n",
       "      <td>Sedan</td>\n",
       "      <td>6</td>\n",
       "      <td>3.1</td>\n",
       "      <td>4</td>\n",
       "      <td>1</td>\n",
       "      <td>0</td>\n",
       "      <td>0</td>\n",
       "    </tr>\n",
       "    <tr>\n",
       "      <th>4</th>\n",
       "      <td>16339.170324</td>\n",
       "      <td>19832</td>\n",
       "      <td>Buick</td>\n",
       "      <td>Century</td>\n",
       "      <td>Sedan 4D</td>\n",
       "      <td>Sedan</td>\n",
       "      <td>6</td>\n",
       "      <td>3.1</td>\n",
       "      <td>4</td>\n",
       "      <td>1</td>\n",
       "      <td>0</td>\n",
       "      <td>1</td>\n",
       "    </tr>\n",
       "  </tbody>\n",
       "</table>\n",
       "</div>"
      ],
      "text/plain": [
       "    Precio_dlls  Kilometraje  Marca   Modelo Clasificacion   Tipo  Cilindros  \\\n",
       "0  17314.103129         8221  Buick  Century      Sedan 4D  Sedan          6   \n",
       "1  17542.036083         9135  Buick  Century      Sedan 4D  Sedan          6   \n",
       "2  16218.847862        13196  Buick  Century      Sedan 4D  Sedan          6   \n",
       "3  16336.913140        16342  Buick  Century      Sedan 4D  Sedan          6   \n",
       "4  16339.170324        19832  Buick  Century      Sedan 4D  Sedan          6   \n",
       "\n",
       "   Litros  Puertas  Cruzero  Sonido  Piel  \n",
       "0     3.1        4        1       1     1  \n",
       "1     3.1        4        1       1     0  \n",
       "2     3.1        4        1       1     0  \n",
       "3     3.1        4        1       0     0  \n",
       "4     3.1        4        1       0     1  "
      ]
     },
     "execution_count": 9,
     "metadata": {},
     "output_type": "execute_result"
    }
   ],
   "source": [
    "# leer csv con información del libro azul de carros\n",
    "df = pd.read_csv(\"data/informacion_carros.csv\")\n",
    "df.head()"
   ]
  },
  {
   "cell_type": "markdown",
   "metadata": {},
   "source": [
    "Hay que recordar que las regresiones no funcionan muy bien con valores ordinarios, es por eso que vamos convertir estos valores en un orden que pueda tener sentido."
   ]
  },
  {
   "cell_type": "markdown",
   "metadata": {},
   "source": [
    "## Feature Scaling\n"
   ]
  },
  {
   "cell_type": "code",
   "execution_count": 11,
   "metadata": {},
   "outputs": [
    {
     "name": "stderr",
     "output_type": "stream",
     "text": [
      "/home/jorge/anaconda3/lib/python3.6/site-packages/ipykernel_launcher.py:8: FutureWarning: Method .as_matrix will be removed in a future version. Use .values instead.\n",
      "  \n",
      "/home/jorge/anaconda3/lib/python3.6/site-packages/sklearn/utils/validation.py:475: DataConversionWarning: Data with input dtype int64 was converted to float64 by StandardScaler.\n",
      "  warnings.warn(msg, DataConversionWarning)\n",
      "/home/jorge/anaconda3/lib/python3.6/site-packages/sklearn/utils/validation.py:475: DataConversionWarning: Data with input dtype int64 was converted to float64 by StandardScaler.\n",
      "  warnings.warn(msg, DataConversionWarning)\n",
      "/home/jorge/anaconda3/lib/python3.6/site-packages/ipykernel_launcher.py:8: SettingWithCopyWarning: \n",
      "A value is trying to be set on a copy of a slice from a DataFrame.\n",
      "Try using .loc[row_indexer,col_indexer] = value instead\n",
      "\n",
      "See the caveats in the documentation: http://pandas.pydata.org/pandas-docs/stable/indexing.html#indexing-view-versus-copy\n",
      "  \n",
      "/home/jorge/anaconda3/lib/python3.6/site-packages/pandas/core/indexing.py:543: SettingWithCopyWarning: \n",
      "A value is trying to be set on a copy of a slice from a DataFrame.\n",
      "Try using .loc[row_indexer,col_indexer] = value instead\n",
      "\n",
      "See the caveats in the documentation: http://pandas.pydata.org/pandas-docs/stable/indexing.html#indexing-view-versus-copy\n",
      "  self.obj[item] = s\n"
     ]
    },
    {
     "name": "stdout",
     "output_type": "stream",
     "text": [
      "     Kilometraje  Cilindros   Puertas\n",
      "0      -1.417485   0.527410  0.556279\n",
      "1      -1.305902   0.527410  0.556279\n",
      "2      -0.810128   0.527410  0.556279\n",
      "3      -0.426058   0.527410  0.556279\n",
      "4       0.000008   0.527410  0.556279\n",
      "5       0.293493   0.527410  0.556279\n",
      "6       0.335001   0.527410  0.556279\n",
      "7       0.382369   0.527410  0.556279\n",
      "8       0.511409   0.527410  0.556279\n",
      "9       0.914768   0.527410  0.556279\n",
      "10     -1.171368   0.527410  0.556279\n",
      "11     -0.581834   0.527410  0.556279\n",
      "12     -0.390532   0.527410  0.556279\n",
      "13     -0.003899   0.527410  0.556279\n",
      "14      0.430591   0.527410  0.556279\n",
      "15      0.480156   0.527410  0.556279\n",
      "16      0.509822   0.527410  0.556279\n",
      "17      0.757160   0.527410  0.556279\n",
      "18      1.594886   0.527410  0.556279\n",
      "19      1.810849   0.527410  0.556279\n",
      "20     -1.326046   0.527410  0.556279\n",
      "21     -1.129860   0.527410  0.556279\n",
      "22     -0.667658   0.527410  0.556279\n",
      "23     -0.405792   0.527410  0.556279\n",
      "24     -0.112796   0.527410  0.556279\n",
      "25     -0.044552   0.527410  0.556279\n",
      "26      0.190700   0.527410  0.556279\n",
      "27      0.337442   0.527410  0.556279\n",
      "28      0.566102   0.527410  0.556279\n",
      "29      0.660837   0.527410  0.556279\n",
      "..           ...        ...       ...\n",
      "774    -0.161262  -0.914896  0.556279\n",
      "775    -0.089234  -0.914896  0.556279\n",
      "776    -0.040523  -0.914896  0.556279\n",
      "777     0.002572  -0.914896  0.556279\n",
      "778     0.236603  -0.914896  0.556279\n",
      "779     0.249666  -0.914896  0.556279\n",
      "780     0.357220  -0.914896  0.556279\n",
      "781     0.365521  -0.914896  0.556279\n",
      "782     0.434131  -0.914896  0.556279\n",
      "783     0.517269  -0.914896  0.556279\n",
      "784     0.589908  -0.914896  0.556279\n",
      "785     0.599186  -0.914896  0.556279\n",
      "786     0.793052  -0.914896  0.556279\n",
      "787     1.033554  -0.914896  0.556279\n",
      "788     1.045762  -0.914896  0.556279\n",
      "789     1.205567  -0.914896  0.556279\n",
      "790     1.541414  -0.914896  0.556279\n",
      "791     1.561070  -0.914896  0.556279\n",
      "792     1.725026  -0.914896  0.556279\n",
      "793     1.851502  -0.914896  0.556279\n",
      "794    -1.709871   0.527410  0.556279\n",
      "795    -1.474375   0.527410  0.556279\n",
      "796    -1.187849   0.527410  0.556279\n",
      "797    -1.079929   0.527410  0.556279\n",
      "798    -0.682430   0.527410  0.556279\n",
      "799    -0.439853   0.527410  0.556279\n",
      "800    -0.089966   0.527410  0.556279\n",
      "801     0.079605   0.527410  0.556279\n",
      "802     0.750446   0.527410  0.556279\n",
      "803     1.932565   0.527410  0.556279\n",
      "\n",
      "[804 rows x 3 columns]\n"
     ]
    },
    {
     "data": {
      "text/html": [
       "<table class=\"simpletable\">\n",
       "<caption>OLS Regression Results</caption>\n",
       "<tr>\n",
       "  <th>Dep. Variable:</th>       <td>Precio_dlls</td>   <th>  R-squared:         </th> <td>   0.064</td> \n",
       "</tr>\n",
       "<tr>\n",
       "  <th>Model:</th>                   <td>OLS</td>       <th>  Adj. R-squared:    </th> <td>   0.060</td> \n",
       "</tr>\n",
       "<tr>\n",
       "  <th>Method:</th>             <td>Least Squares</td>  <th>  F-statistic:       </th> <td>   18.11</td> \n",
       "</tr>\n",
       "<tr>\n",
       "  <th>Date:</th>             <td>Thu, 01 Nov 2018</td> <th>  Prob (F-statistic):</th> <td>2.23e-11</td> \n",
       "</tr>\n",
       "<tr>\n",
       "  <th>Time:</th>                 <td>16:04:01</td>     <th>  Log-Likelihood:    </th> <td> -9207.1</td> \n",
       "</tr>\n",
       "<tr>\n",
       "  <th>No. Observations:</th>      <td>   804</td>      <th>  AIC:               </th> <td>1.842e+04</td>\n",
       "</tr>\n",
       "<tr>\n",
       "  <th>Df Residuals:</th>          <td>   801</td>      <th>  BIC:               </th> <td>1.843e+04</td>\n",
       "</tr>\n",
       "<tr>\n",
       "  <th>Df Model:</th>              <td>     3</td>      <th>                     </th>     <td> </td>    \n",
       "</tr>\n",
       "<tr>\n",
       "  <th>Covariance Type:</th>      <td>nonrobust</td>    <th>                     </th>     <td> </td>    \n",
       "</tr>\n",
       "</table>\n",
       "<table class=\"simpletable\">\n",
       "<tr>\n",
       "       <td></td>          <th>coef</th>     <th>std err</th>      <th>t</th>      <th>P>|t|</th>  <th>[0.025</th>    <th>0.975]</th>  \n",
       "</tr>\n",
       "<tr>\n",
       "  <th>Kilometraje</th> <td>-1272.3412</td> <td>  804.623</td> <td>   -1.581</td> <td> 0.114</td> <td>-2851.759</td> <td>  307.077</td>\n",
       "</tr>\n",
       "<tr>\n",
       "  <th>Cilindros</th>   <td> 5587.4472</td> <td>  804.509</td> <td>    6.945</td> <td> 0.000</td> <td> 4008.252</td> <td> 7166.642</td>\n",
       "</tr>\n",
       "<tr>\n",
       "  <th>Puertas</th>     <td>-1404.5513</td> <td>  804.275</td> <td>   -1.746</td> <td> 0.081</td> <td>-2983.288</td> <td>  174.185</td>\n",
       "</tr>\n",
       "</table>\n",
       "<table class=\"simpletable\">\n",
       "<tr>\n",
       "  <th>Omnibus:</th>       <td>157.913</td> <th>  Durbin-Watson:     </th> <td>   0.008</td>\n",
       "</tr>\n",
       "<tr>\n",
       "  <th>Prob(Omnibus):</th> <td> 0.000</td>  <th>  Jarque-Bera (JB):  </th> <td> 257.529</td>\n",
       "</tr>\n",
       "<tr>\n",
       "  <th>Skew:</th>          <td> 1.278</td>  <th>  Prob(JB):          </th> <td>1.20e-56</td>\n",
       "</tr>\n",
       "<tr>\n",
       "  <th>Kurtosis:</th>      <td> 4.074</td>  <th>  Cond. No.          </th> <td>    1.03</td>\n",
       "</tr>\n",
       "</table><br/><br/>Warnings:<br/>[1] Standard Errors assume that the covariance matrix of the errors is correctly specified."
      ],
      "text/plain": [
       "<class 'statsmodels.iolib.summary.Summary'>\n",
       "\"\"\"\n",
       "                            OLS Regression Results                            \n",
       "==============================================================================\n",
       "Dep. Variable:            Precio_dlls   R-squared:                       0.064\n",
       "Model:                            OLS   Adj. R-squared:                  0.060\n",
       "Method:                 Least Squares   F-statistic:                     18.11\n",
       "Date:                Thu, 01 Nov 2018   Prob (F-statistic):           2.23e-11\n",
       "Time:                        16:04:01   Log-Likelihood:                -9207.1\n",
       "No. Observations:                 804   AIC:                         1.842e+04\n",
       "Df Residuals:                     801   BIC:                         1.843e+04\n",
       "Df Model:                           3                                         \n",
       "Covariance Type:            nonrobust                                         \n",
       "===============================================================================\n",
       "                  coef    std err          t      P>|t|      [0.025      0.975]\n",
       "-------------------------------------------------------------------------------\n",
       "Kilometraje -1272.3412    804.623     -1.581      0.114   -2851.759     307.077\n",
       "Cilindros    5587.4472    804.509      6.945      0.000    4008.252    7166.642\n",
       "Puertas     -1404.5513    804.275     -1.746      0.081   -2983.288     174.185\n",
       "==============================================================================\n",
       "Omnibus:                      157.913   Durbin-Watson:                   0.008\n",
       "Prob(Omnibus):                  0.000   Jarque-Bera (JB):              257.529\n",
       "Skew:                           1.278   Prob(JB):                     1.20e-56\n",
       "Kurtosis:                       4.074   Cond. No.                         1.03\n",
       "==============================================================================\n",
       "\n",
       "Warnings:\n",
       "[1] Standard Errors assume that the covariance matrix of the errors is correctly specified.\n",
       "\"\"\""
      ]
     },
     "execution_count": 11,
     "metadata": {},
     "output_type": "execute_result"
    }
   ],
   "source": [
    "import statsmodels.api as sm\n",
    "from sklearn.preprocessing import StandardScaler\n",
    "scale = StandardScaler()\n",
    "\n",
    "X = df[['Kilometraje', 'Cilindros', 'Puertas']]\n",
    "y = df['Precio_dlls']\n",
    "\n",
    "X[['Kilometraje', 'Cilindros', 'Puertas']] = scale.fit_transform(X[['Kilometraje', 'Cilindros', 'Puertas']].as_matrix())\n",
    "\n",
    "print (X)\n",
    "\n",
    "est = sm.OLS(y, X).fit()\n",
    "\n",
    "est.summary()"
   ]
  },
  {
   "cell_type": "code",
   "execution_count": 12,
   "metadata": {},
   "outputs": [
    {
     "data": {
      "text/plain": [
       "Puertas\n",
       "2    23807.135520\n",
       "4    20580.670749\n",
       "Name: Precio_dlls, dtype: float64"
      ]
     },
     "execution_count": 12,
     "metadata": {},
     "output_type": "execute_result"
    }
   ],
   "source": [
    "y.groupby(df[\"Puertas\"]).mean()"
   ]
  },
  {
   "cell_type": "code",
   "execution_count": 14,
   "metadata": {},
   "outputs": [],
   "source": [
    "import seaborn as sns"
   ]
  },
  {
   "cell_type": "code",
   "execution_count": 20,
   "metadata": {},
   "outputs": [
    {
     "data": {
      "text/plain": [
       "<matplotlib.axes._subplots.AxesSubplot at 0x15009271a630>"
      ]
     },
     "execution_count": 20,
     "metadata": {},
     "output_type": "execute_result"
    },
    {
     "data": {
      "image/png": "[encoded data removed]",
      "text/plain": [
       "<Figure size 432x288 with 2 Axes>"
      ]
     },
     "metadata": {},
     "output_type": "display_data"
    }
   ],
   "source": [
    "sns.heatmap(df.corr(), cmap=\"jet\")"
   ]
  },
  {
   "cell_type": "code",
   "execution_count": null,
   "metadata": {},
   "outputs": [],
   "source": []
  }
 ],
 "metadata": {
  "kernelspec": {
   "display_name": "Python 3 (ipykernel)",
   "language": "python",
   "name": "python3"
  },
  "language_info": {
   "codemirror_mode": {
    "name": "ipython",
    "version": 3
   },
   "file_extension": ".py",
   "mimetype": "text/x-python",
   "name": "python",
   "nbconvert_exporter": "python",
   "pygments_lexer": "ipython3",
   "version": "3.11.5"
  }
 },
 "nbformat": 4,
 "nbformat_minor": 2
}
