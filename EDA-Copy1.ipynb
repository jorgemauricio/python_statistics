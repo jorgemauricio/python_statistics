{
 "cells": [
  {
   "cell_type": "markdown",
   "metadata": {},
   "source": [
    "# Estadística con Python\n",
    "\n",
    "### GitHub repository: https://github.com/jorgemauricio/python_statistics\n",
    "\n",
    "### Instructor: Jorge Mauricio"
   ]
  },
  {
   "cell_type": "markdown",
   "metadata": {},
   "source": [
    "## EDA\n",
    "\n",
    "Exploratory Data Analysis refers to the critical process of performing initial investigations on data so as to discover patterns,to spot anomalies,to test hypothesis and to check assumptions with the help of summary statistics and graphical representations."
   ]
  },
  {
   "cell_type": "code",
   "execution_count": 9,
   "metadata": {},
   "outputs": [],
   "source": [
    "#librerías\n",
    "import numpy as np\n",
    "import pandas as pd\n",
    "import matplotlib.pyplot as plt\n",
    "%matplotlib inline"
   ]
  },
  {
   "cell_type": "code",
   "execution_count": 12,
   "metadata": {},
   "outputs": [],
   "source": [
    "# leer archivo csv \"store_info.csv\"\n",
    "df = pd.read_csv(\"data/store_info.csv\")"
   ]
  },
  {
   "cell_type": "code",
   "execution_count": 16,
   "metadata": {},
   "outputs": [
    {
     "data": {
      "text/html": [
       "<div>\n",
       "<style scoped>\n",
       "    .dataframe tbody tr th:only-of-type {\n",
       "        vertical-align: middle;\n",
       "    }\n",
       "\n",
       "    .dataframe tbody tr th {\n",
       "        vertical-align: top;\n",
       "    }\n",
       "\n",
       "    .dataframe thead th {\n",
       "        text-align: right;\n",
       "    }\n",
       "</style>\n",
       "<table border=\"1\" class=\"dataframe\">\n",
       "  <thead>\n",
       "    <tr style=\"text-align: right;\">\n",
       "      <th></th>\n",
       "      <th>BranchName</th>\n",
       "      <th>Week</th>\n",
       "      <th>DayWeek</th>\n",
       "      <th>Day</th>\n",
       "      <th>Month</th>\n",
       "      <th>Hour</th>\n",
       "      <th>Transaction_Type</th>\n",
       "      <th>Units</th>\n",
       "      <th>Amount</th>\n",
       "    </tr>\n",
       "  </thead>\n",
       "  <tbody>\n",
       "    <tr>\n",
       "      <th>0</th>\n",
       "      <td>Tiendita</td>\n",
       "      <td>1</td>\n",
       "      <td>3</td>\n",
       "      <td>2</td>\n",
       "      <td>1</td>\n",
       "      <td>9</td>\n",
       "      <td>Card</td>\n",
       "      <td>3</td>\n",
       "      <td>$54.00</td>\n",
       "    </tr>\n",
       "    <tr>\n",
       "      <th>1</th>\n",
       "      <td>Tiendita</td>\n",
       "      <td>1</td>\n",
       "      <td>3</td>\n",
       "      <td>2</td>\n",
       "      <td>1</td>\n",
       "      <td>10</td>\n",
       "      <td>Cash</td>\n",
       "      <td>7</td>\n",
       "      <td>-$17.80</td>\n",
       "    </tr>\n",
       "    <tr>\n",
       "      <th>2</th>\n",
       "      <td>Tiendita</td>\n",
       "      <td>1</td>\n",
       "      <td>3</td>\n",
       "      <td>2</td>\n",
       "      <td>1</td>\n",
       "      <td>10</td>\n",
       "      <td>Card</td>\n",
       "      <td>7</td>\n",
       "      <td>$41.99</td>\n",
       "    </tr>\n",
       "    <tr>\n",
       "      <th>3</th>\n",
       "      <td>Tiendita</td>\n",
       "      <td>1</td>\n",
       "      <td>3</td>\n",
       "      <td>2</td>\n",
       "      <td>1</td>\n",
       "      <td>11</td>\n",
       "      <td>Card</td>\n",
       "      <td>20</td>\n",
       "      <td>$412.50</td>\n",
       "    </tr>\n",
       "    <tr>\n",
       "      <th>4</th>\n",
       "      <td>Tiendita</td>\n",
       "      <td>1</td>\n",
       "      <td>3</td>\n",
       "      <td>2</td>\n",
       "      <td>1</td>\n",
       "      <td>12</td>\n",
       "      <td>Cash</td>\n",
       "      <td>1</td>\n",
       "      <td>-$18.00</td>\n",
       "    </tr>\n",
       "  </tbody>\n",
       "</table>\n",
       "</div>"
      ],
      "text/plain": [
       "  BranchName  Week  DayWeek  Day  Month  Hour Transaction_Type  Units   Amount\n",
       "0   Tiendita     1        3    2      1     9             Card      3   $54.00\n",
       "1   Tiendita     1        3    2      1    10             Cash      7  -$17.80\n",
       "2   Tiendita     1        3    2      1    10             Card      7   $41.99\n",
       "3   Tiendita     1        3    2      1    11             Card     20  $412.50\n",
       "4   Tiendita     1        3    2      1    12             Cash      1  -$18.00"
      ]
     },
     "execution_count": 16,
     "metadata": {},
     "output_type": "execute_result"
    }
   ],
   "source": [
    "# visualizar la estructura del archivo\n",
    "df.head()"
   ]
  },
  {
   "cell_type": "code",
   "execution_count": 13,
   "metadata": {},
   "outputs": [
    {
     "name": "stdout",
     "output_type": "stream",
     "text": [
      "<class 'pandas.core.frame.DataFrame'>\n",
      "RangeIndex: 4100 entries, 0 to 4099\n",
      "Data columns (total 9 columns):\n",
      "BranchName          4100 non-null object\n",
      "Week                4100 non-null int64\n",
      "DayWeek             4100 non-null int64\n",
      "Day                 4100 non-null int64\n",
      "Month               4100 non-null int64\n",
      "Hour                4100 non-null int64\n",
      "Transaction_Type    4100 non-null object\n",
      "Units               4100 non-null int64\n",
      "Amount              4100 non-null object\n",
      "dtypes: int64(6), object(3)\n",
      "memory usage: 288.4+ KB\n"
     ]
    }
   ],
   "source": [
    "# visualizar el tipo de dato de cada columna\n",
    "df.info()"
   ]
  },
  {
   "cell_type": "code",
   "execution_count": 17,
   "metadata": {},
   "outputs": [],
   "source": [
    "# eliminar el signo de $ de los datos\n",
    "df['Amount'] = df['Amount'].str.replace('$','').str.replace(',','')"
   ]
  },
  {
   "cell_type": "code",
   "execution_count": 18,
   "metadata": {},
   "outputs": [
    {
     "data": {
      "text/html": [
       "<div>\n",
       "<style scoped>\n",
       "    .dataframe tbody tr th:only-of-type {\n",
       "        vertical-align: middle;\n",
       "    }\n",
       "\n",
       "    .dataframe tbody tr th {\n",
       "        vertical-align: top;\n",
       "    }\n",
       "\n",
       "    .dataframe thead th {\n",
       "        text-align: right;\n",
       "    }\n",
       "</style>\n",
       "<table border=\"1\" class=\"dataframe\">\n",
       "  <thead>\n",
       "    <tr style=\"text-align: right;\">\n",
       "      <th></th>\n",
       "      <th>BranchName</th>\n",
       "      <th>Week</th>\n",
       "      <th>DayWeek</th>\n",
       "      <th>Day</th>\n",
       "      <th>Month</th>\n",
       "      <th>Hour</th>\n",
       "      <th>Transaction_Type</th>\n",
       "      <th>Units</th>\n",
       "      <th>Amount</th>\n",
       "    </tr>\n",
       "  </thead>\n",
       "  <tbody>\n",
       "    <tr>\n",
       "      <th>0</th>\n",
       "      <td>Tiendita</td>\n",
       "      <td>1</td>\n",
       "      <td>3</td>\n",
       "      <td>2</td>\n",
       "      <td>1</td>\n",
       "      <td>9</td>\n",
       "      <td>Card</td>\n",
       "      <td>3</td>\n",
       "      <td>54.00</td>\n",
       "    </tr>\n",
       "    <tr>\n",
       "      <th>1</th>\n",
       "      <td>Tiendita</td>\n",
       "      <td>1</td>\n",
       "      <td>3</td>\n",
       "      <td>2</td>\n",
       "      <td>1</td>\n",
       "      <td>10</td>\n",
       "      <td>Cash</td>\n",
       "      <td>7</td>\n",
       "      <td>-17.80</td>\n",
       "    </tr>\n",
       "    <tr>\n",
       "      <th>2</th>\n",
       "      <td>Tiendita</td>\n",
       "      <td>1</td>\n",
       "      <td>3</td>\n",
       "      <td>2</td>\n",
       "      <td>1</td>\n",
       "      <td>10</td>\n",
       "      <td>Card</td>\n",
       "      <td>7</td>\n",
       "      <td>41.99</td>\n",
       "    </tr>\n",
       "    <tr>\n",
       "      <th>3</th>\n",
       "      <td>Tiendita</td>\n",
       "      <td>1</td>\n",
       "      <td>3</td>\n",
       "      <td>2</td>\n",
       "      <td>1</td>\n",
       "      <td>11</td>\n",
       "      <td>Card</td>\n",
       "      <td>20</td>\n",
       "      <td>412.50</td>\n",
       "    </tr>\n",
       "    <tr>\n",
       "      <th>4</th>\n",
       "      <td>Tiendita</td>\n",
       "      <td>1</td>\n",
       "      <td>3</td>\n",
       "      <td>2</td>\n",
       "      <td>1</td>\n",
       "      <td>12</td>\n",
       "      <td>Cash</td>\n",
       "      <td>1</td>\n",
       "      <td>-18.00</td>\n",
       "    </tr>\n",
       "  </tbody>\n",
       "</table>\n",
       "</div>"
      ],
      "text/plain": [
       "  BranchName  Week  DayWeek  Day  Month  Hour Transaction_Type  Units  Amount\n",
       "0   Tiendita     1        3    2      1     9             Card      3   54.00\n",
       "1   Tiendita     1        3    2      1    10             Cash      7  -17.80\n",
       "2   Tiendita     1        3    2      1    10             Card      7   41.99\n",
       "3   Tiendita     1        3    2      1    11             Card     20  412.50\n",
       "4   Tiendita     1        3    2      1    12             Cash      1  -18.00"
      ]
     },
     "execution_count": 18,
     "metadata": {},
     "output_type": "execute_result"
    }
   ],
   "source": [
    "# verificar la estructura\n",
    "df.head()"
   ]
  },
  {
   "cell_type": "code",
   "execution_count": 19,
   "metadata": {},
   "outputs": [
    {
     "name": "stdout",
     "output_type": "stream",
     "text": [
      "<class 'pandas.core.frame.DataFrame'>\n",
      "RangeIndex: 4100 entries, 0 to 4099\n",
      "Data columns (total 9 columns):\n",
      "BranchName          4100 non-null object\n",
      "Week                4100 non-null int64\n",
      "DayWeek             4100 non-null int64\n",
      "Day                 4100 non-null int64\n",
      "Month               4100 non-null int64\n",
      "Hour                4100 non-null int64\n",
      "Transaction_Type    4100 non-null object\n",
      "Units               4100 non-null int64\n",
      "Amount              4100 non-null object\n",
      "dtypes: int64(6), object(3)\n",
      "memory usage: 288.4+ KB\n"
     ]
    }
   ],
   "source": [
    "df.info()"
   ]
  },
  {
   "cell_type": "code",
   "execution_count": 21,
   "metadata": {},
   "outputs": [
    {
     "name": "stdout",
     "output_type": "stream",
     "text": [
      "<class 'pandas.core.frame.DataFrame'>\n",
      "RangeIndex: 4100 entries, 0 to 4099\n",
      "Data columns (total 9 columns):\n",
      "BranchName          4100 non-null object\n",
      "Week                4100 non-null int64\n",
      "DayWeek             4100 non-null int64\n",
      "Day                 4100 non-null int64\n",
      "Month               4100 non-null int64\n",
      "Hour                4100 non-null int64\n",
      "Transaction_Type    4100 non-null object\n",
      "Units               4100 non-null int64\n",
      "Amount              4100 non-null float64\n",
      "dtypes: float64(1), int64(6), object(2)\n",
      "memory usage: 288.4+ KB\n"
     ]
    }
   ],
   "source": [
    "# convertir columna 'Amount' a dato númerico\n",
    "df['Amount'] = pd.to_numeric(df['Amount'])\n",
    "df.info()"
   ]
  },
  {
   "cell_type": "code",
   "execution_count": 22,
   "metadata": {},
   "outputs": [
    {
     "data": {
      "text/plain": [
       "(4100, 9)"
      ]
     },
     "execution_count": 22,
     "metadata": {},
     "output_type": "execute_result"
    }
   ],
   "source": [
    "# filas y columnas\n",
    "df.shape"
   ]
  },
  {
   "cell_type": "code",
   "execution_count": 23,
   "metadata": {},
   "outputs": [
    {
     "data": {
      "text/html": [
       "<div>\n",
       "<style scoped>\n",
       "    .dataframe tbody tr th:only-of-type {\n",
       "        vertical-align: middle;\n",
       "    }\n",
       "\n",
       "    .dataframe tbody tr th {\n",
       "        vertical-align: top;\n",
       "    }\n",
       "\n",
       "    .dataframe thead th {\n",
       "        text-align: right;\n",
       "    }\n",
       "</style>\n",
       "<table border=\"1\" class=\"dataframe\">\n",
       "  <thead>\n",
       "    <tr style=\"text-align: right;\">\n",
       "      <th></th>\n",
       "      <th>Week</th>\n",
       "      <th>DayWeek</th>\n",
       "      <th>Day</th>\n",
       "      <th>Month</th>\n",
       "      <th>Hour</th>\n",
       "      <th>Units</th>\n",
       "      <th>Amount</th>\n",
       "    </tr>\n",
       "  </thead>\n",
       "  <tbody>\n",
       "    <tr>\n",
       "      <th>count</th>\n",
       "      <td>4100.000000</td>\n",
       "      <td>4100.000000</td>\n",
       "      <td>4100.000000</td>\n",
       "      <td>4100.000000</td>\n",
       "      <td>4100.000000</td>\n",
       "      <td>4100.000000</td>\n",
       "      <td>4100.000000</td>\n",
       "    </tr>\n",
       "    <tr>\n",
       "      <th>mean</th>\n",
       "      <td>34.017805</td>\n",
       "      <td>4.183902</td>\n",
       "      <td>15.812195</td>\n",
       "      <td>8.231463</td>\n",
       "      <td>12.949024</td>\n",
       "      <td>12.779512</td>\n",
       "      <td>35.237046</td>\n",
       "    </tr>\n",
       "    <tr>\n",
       "      <th>std</th>\n",
       "      <td>14.714289</td>\n",
       "      <td>1.967864</td>\n",
       "      <td>8.810817</td>\n",
       "      <td>3.396586</td>\n",
       "      <td>2.631853</td>\n",
       "      <td>17.854968</td>\n",
       "      <td>183.538724</td>\n",
       "    </tr>\n",
       "    <tr>\n",
       "      <th>min</th>\n",
       "      <td>1.000000</td>\n",
       "      <td>1.000000</td>\n",
       "      <td>1.000000</td>\n",
       "      <td>1.000000</td>\n",
       "      <td>8.000000</td>\n",
       "      <td>1.000000</td>\n",
       "      <td>-1041.800000</td>\n",
       "    </tr>\n",
       "    <tr>\n",
       "      <th>25%</th>\n",
       "      <td>29.000000</td>\n",
       "      <td>3.000000</td>\n",
       "      <td>8.000000</td>\n",
       "      <td>7.000000</td>\n",
       "      <td>11.000000</td>\n",
       "      <td>3.000000</td>\n",
       "      <td>-47.000000</td>\n",
       "    </tr>\n",
       "    <tr>\n",
       "      <th>50%</th>\n",
       "      <td>37.000000</td>\n",
       "      <td>4.000000</td>\n",
       "      <td>16.000000</td>\n",
       "      <td>9.000000</td>\n",
       "      <td>13.000000</td>\n",
       "      <td>8.000000</td>\n",
       "      <td>-2.385000</td>\n",
       "    </tr>\n",
       "    <tr>\n",
       "      <th>75%</th>\n",
       "      <td>45.000000</td>\n",
       "      <td>6.000000</td>\n",
       "      <td>23.000000</td>\n",
       "      <td>11.000000</td>\n",
       "      <td>15.000000</td>\n",
       "      <td>16.000000</td>\n",
       "      <td>99.512500</td>\n",
       "    </tr>\n",
       "    <tr>\n",
       "      <th>max</th>\n",
       "      <td>53.000000</td>\n",
       "      <td>7.000000</td>\n",
       "      <td>31.000000</td>\n",
       "      <td>12.000000</td>\n",
       "      <td>19.000000</td>\n",
       "      <td>274.000000</td>\n",
       "      <td>1487.000000</td>\n",
       "    </tr>\n",
       "  </tbody>\n",
       "</table>\n",
       "</div>"
      ],
      "text/plain": [
       "              Week      DayWeek          Day        Month         Hour  \\\n",
       "count  4100.000000  4100.000000  4100.000000  4100.000000  4100.000000   \n",
       "mean     34.017805     4.183902    15.812195     8.231463    12.949024   \n",
       "std      14.714289     1.967864     8.810817     3.396586     2.631853   \n",
       "min       1.000000     1.000000     1.000000     1.000000     8.000000   \n",
       "25%      29.000000     3.000000     8.000000     7.000000    11.000000   \n",
       "50%      37.000000     4.000000    16.000000     9.000000    13.000000   \n",
       "75%      45.000000     6.000000    23.000000    11.000000    15.000000   \n",
       "max      53.000000     7.000000    31.000000    12.000000    19.000000   \n",
       "\n",
       "             Units       Amount  \n",
       "count  4100.000000  4100.000000  \n",
       "mean     12.779512    35.237046  \n",
       "std      17.854968   183.538724  \n",
       "min       1.000000 -1041.800000  \n",
       "25%       3.000000   -47.000000  \n",
       "50%       8.000000    -2.385000  \n",
       "75%      16.000000    99.512500  \n",
       "max     274.000000  1487.000000  "
      ]
     },
     "execution_count": 23,
     "metadata": {},
     "output_type": "execute_result"
    }
   ],
   "source": [
    "df.describe()"
   ]
  },
  {
   "cell_type": "code",
   "execution_count": 27,
   "metadata": {},
   "outputs": [
    {
     "data": {
      "image/png": "[encoded data removed]",
      "text/plain": [
       "<Figure size 432x288 with 1 Axes>"
      ]
     },
     "metadata": {
      "needs_background": "light"
     },
     "output_type": "display_data"
    }
   ],
   "source": [
    "# distribución de las ventas\n",
    "plt.hist(df[\"Amount\"],bins=20,density=1,facecolor='blue',alpha=0.7)\n",
    "plt.show()"
   ]
  },
  {
   "cell_type": "markdown",
   "metadata": {},
   "source": [
    "Se puede determinar que las ventas varian de -1000 a 1000"
   ]
  },
  {
   "cell_type": "markdown",
   "metadata": {},
   "source": [
    "## Ventas por mes, día y hora"
   ]
  },
  {
   "cell_type": "code",
   "execution_count": 29,
   "metadata": {},
   "outputs": [
    {
     "name": "stdout",
     "output_type": "stream",
     "text": [
      "Month\n",
      "1     604\n",
      "7     606\n",
      "8     572\n",
      "9     580\n",
      "10    581\n",
      "11    587\n",
      "12    570\n",
      "dtype: int64\n"
     ]
    }
   ],
   "source": [
    "# Mensuales\n",
    "sales_by_month = df.groupby('Month').size()\n",
    "print(sales_by_month)"
   ]
  },
  {
   "cell_type": "code",
   "execution_count": 31,
   "metadata": {},
   "outputs": [
    {
     "data": {
      "text/plain": [
       "Text(0, 0.5, 'Venta Total')"
      ]
     },
     "execution_count": 31,
     "metadata": {},
     "output_type": "execute_result"
    },
    {
     "data": {
      "image/png": "[encoded data removed]",
      "text/plain": [
       "<Figure size 432x288 with 1 Axes>"
      ]
     },
     "metadata": {
      "needs_background": "light"
     },
     "output_type": "display_data"
    }
   ],
   "source": [
    "#Plotting the Graph\n",
    "plot_by_month = sales_by_month.plot(title='Ventas Mensuales',xticks=(1,2,3,4,5,6,7,8,9,10,11,12))\n",
    "plot_by_month.set_xlabel('Mes')\n",
    "plot_by_month.set_ylabel('Venta Total')"
   ]
  },
  {
   "cell_type": "code",
   "execution_count": 35,
   "metadata": {},
   "outputs": [
    {
     "data": {
      "text/plain": [
       "Text(0, 0.5, 'Venta Total')"
      ]
     },
     "execution_count": 35,
     "metadata": {},
     "output_type": "execute_result"
    },
    {
     "data": {
      "image/png": "[encoded data removed]",
      "text/plain": [
       "<Figure size 1080x360 with 1 Axes>"
      ]
     },
     "metadata": {
      "needs_background": "light"
     },
     "output_type": "display_data"
    }
   ],
   "source": [
    "# Por día\n",
    "fig = plt.figure(figsize=(15,5))\n",
    "sales_by_day = df.groupby('Day').size()\n",
    "plot_by_day = sales_by_day.plot(title='Ventas diarias',xticks=(range(1,31)),rot=45)\n",
    "plot_by_day.set_xlabel('Día')\n",
    "plot_by_day.set_ylabel('Venta Total')"
   ]
  },
  {
   "cell_type": "markdown",
   "metadata": {},
   "source": [
    "El día con mayor ventas fue el día 18"
   ]
  },
  {
   "cell_type": "code",
   "execution_count": 36,
   "metadata": {},
   "outputs": [
    {
     "data": {
      "text/plain": [
       "Text(0, 0.5, 'Venta Total')"
      ]
     },
     "execution_count": 36,
     "metadata": {},
     "output_type": "execute_result"
    },
    {
     "data": {
      "image/png": "[encoded data removed]",
      "text/plain": [
       "<Figure size 432x288 with 1 Axes>"
      ]
     },
     "metadata": {
      "needs_background": "light"
     },
     "output_type": "display_data"
    }
   ],
   "source": [
    "sales_by_hour = df.groupby('Hour').size()\n",
    "plot_by_hour = sales_by_hour.plot(title='Ventas por Hora',xticks=(range(5,22)))\n",
    "plot_by_hour.set_xlabel('Hora')\n",
    "plot_by_hour.set_ylabel('Venta Total')"
   ]
  },
  {
   "cell_type": "code",
   "execution_count": 38,
   "metadata": {},
   "outputs": [
    {
     "data": {
      "text/plain": [
       "18"
      ]
     },
     "execution_count": 38,
     "metadata": {},
     "output_type": "execute_result"
    }
   ],
   "source": [
    "sales_by_day.idxmax()"
   ]
  },
  {
   "cell_type": "code",
   "execution_count": 42,
   "metadata": {},
   "outputs": [
    {
     "data": {
      "text/plain": [
       "Text(19, 151, 'Mejor Venta')"
      ]
     },
     "execution_count": 42,
     "metadata": {},
     "output_type": "execute_result"
    },
    {
     "data": {
      "image/png": "[encoded data removed]",
      "text/plain": [
       "<Figure size 1080x360 with 1 Axes>"
      ]
     },
     "metadata": {
      "needs_background": "light"
     },
     "output_type": "display_data"
    }
   ],
   "source": [
    "# Por día\n",
    "fig = plt.figure(figsize=(15,5))\n",
    "sales_by_day = df.groupby('Day').size()\n",
    "plot_by_day = sales_by_day.plot(title='Ventas diarias',xticks=(range(1,31)),rot=45)\n",
    "plot_by_day.set_xlabel('Día')\n",
    "plot_by_day.set_ylabel('Venta Total')\n",
    "plot_by_day.text(sales_by_day.idxmax() + 1,sales_by_day.max(),\"Mejor Venta\")"
   ]
  },
  {
   "cell_type": "code",
   "execution_count": 40,
   "metadata": {},
   "outputs": [
    {
     "data": {
      "text/plain": [
       "151"
      ]
     },
     "execution_count": 40,
     "metadata": {},
     "output_type": "execute_result"
    }
   ],
   "source": [
    "sales_by_day.max()"
   ]
  },
  {
   "cell_type": "code",
   "execution_count": null,
   "metadata": {},
   "outputs": [],
   "source": []
  }
 ],
 "metadata": {
  "kernelspec": {
   "display_name": "Python 3 (ipykernel)",
   "language": "python",
   "name": "python3"
  },
  "language_info": {
   "codemirror_mode": {
    "name": "ipython",
    "version": 3
   },
   "file_extension": ".py",
   "mimetype": "text/x-python",
   "name": "python",
   "nbconvert_exporter": "python",
   "pygments_lexer": "ipython3",
   "version": "3.11.5"
  }
 },
 "nbformat": 4,
 "nbformat_minor": 2
}
