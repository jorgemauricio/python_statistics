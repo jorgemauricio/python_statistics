{
 "cells": [
  {
   "cell_type": "markdown",
   "metadata": {},
   "source": [
    "# Estadística con Python\n",
    "\n",
    "### GitHub repository: https://github.com/jorgemauricio/python_statistics\n",
    "\n",
    "### Instructor: Jorge Mauricio"
   ]
  },
  {
   "cell_type": "markdown",
   "metadata": {},
   "source": [
    "## Media, Mediana\n",
    "\n",
    "Del archivo `db_alumnos.csv` que se encuentra en la carpeta `data` y que tiene la siguiente estructura:\n",
    "\n",
    "        Asiento        : El asiento asignado al alumno    : 1 al 40\n",
    "        Grupo          : Grupo al que pertenece el alumno : A a la F\n",
    "        Sexo           : Sexo del alumno                  : M o F\n",
    "        Tarea1-6       : Tarea de 1 a 6                   : 0 a 10\n",
    "        Asistencia     : Asistencia en clase              : 0 a 10\n",
    "        Conducta       : Conducta                         : 0 a 10\n",
    "        Participacion  : Participacion                    : 0 a 10\n",
    "        Proyecto1      : Proyecto1                        : 0 a 10\n",
    "        Proyecto2      : Proyecto2                        : 0 a 10\n",
    "        Examen         : Examen                           : 0 a 10\n",
    "        Asistencia     : Asistencia                       : 0 a 10\n",
    "        Autoevaluacion : Autoevaluacion del alumno        : 0 a 10\n",
    "        \n",
    "\n",
    "* Obtener los 5 grupos con mayor valor en media en el rubro de Exámen\n",
    "* Obtener los 5 grupos con menor valor en media en el rubro de Exámen\n",
    "* Cual es la distribucion de la calificacion del rubro de Examen\n",
    "* Cual es el sexo con mayor calificación en la Tarea 3\n",
    "* Cuantos hombres y mujeres tienen una calificación mayor a 8 en el Proyecto 1\n",
    "* Podrías identificar a los alumnos problema del grupo A\n",
    "* Cuales son las variables con la mayor correlación entre si\n",
    "* Cuales son las dos variables con el valor más alto de R2 y muestra la gráfica de su regresión lineal\n",
    "* Cual es la correlación que tienen las variables con el rubro de Examen\n",
    "\n"
   ]
  },
  {
   "cell_type": "code",
   "execution_count": 667,
   "metadata": {},
   "outputs": [],
   "source": [
    "# librerías\n",
    "import pandas as pd\n",
    "import numpy as np\n",
    "import seaborn as sns\n",
    "import matplotlib.pyplot as plt\n",
    "from scipy import stats\n",
    "from sklearn.model_selection import train_test_split\n",
    "import statsmodels.api as sm\n",
    "import statsmodels.formula.api as sm\n",
    "from sklearn.ensemble import RandomForestRegressor\n",
    "from sklearn.linear_model import LinearRegression\n",
    "plt.style.use(\"seaborn\")\n",
    "%matplotlib inline"
   ]
  },
  {
   "cell_type": "code",
   "execution_count": 668,
   "metadata": {},
   "outputs": [
    {
     "name": "stdout",
     "output_type": "stream",
     "text": [
      "<class 'pandas.core.frame.DataFrame'>\n",
      "RangeIndex: 13000 entries, 0 to 12999\n",
      "Data columns (total 17 columns):\n",
      "Unnamed: 0        13000 non-null int64\n",
      "Asiento           13000 non-null int64\n",
      "Grupo             13000 non-null object\n",
      "Sexo              13000 non-null object\n",
      "Tarea1            13000 non-null int64\n",
      "Tarea2            13000 non-null int64\n",
      "Tarea3            13000 non-null int64\n",
      "Tarea4            13000 non-null int64\n",
      "Tarea5            13000 non-null float64\n",
      "Tarea6            13000 non-null float64\n",
      "Asistencia        13000 non-null int64\n",
      "Conducta          13000 non-null float64\n",
      "Participacion     13000 non-null float64\n",
      "Proyecto1         13000 non-null float64\n",
      "Proyecto2         13000 non-null float64\n",
      "Examen            13000 non-null float64\n",
      "Autoevaluacion    13000 non-null float64\n",
      "dtypes: float64(8), int64(7), object(2)\n",
      "memory usage: 1.7+ MB\n"
     ]
    }
   ],
   "source": [
    "# leer csv\n",
    "df = pd.read_csv(\"data/db_alumnos.csv\")\n",
    "df.info()"
   ]
  },
  {
   "cell_type": "markdown",
   "metadata": {},
   "source": [
    "## Obtener los 5 grupos con mayor valor en media en el rubro de Exámen"
   ]
  },
  {
   "cell_type": "code",
   "execution_count": 669,
   "metadata": {},
   "outputs": [
    {
     "data": {
      "text/html": [
       "<div>\n",
       "<style scoped>\n",
       "    .dataframe tbody tr th:only-of-type {\n",
       "        vertical-align: middle;\n",
       "    }\n",
       "\n",
       "    .dataframe tbody tr th {\n",
       "        vertical-align: top;\n",
       "    }\n",
       "\n",
       "    .dataframe thead th {\n",
       "        text-align: right;\n",
       "    }\n",
       "</style>\n",
       "<table border=\"1\" class=\"dataframe\">\n",
       "  <thead>\n",
       "    <tr style=\"text-align: right;\">\n",
       "      <th></th>\n",
       "      <th>Examen</th>\n",
       "    </tr>\n",
       "    <tr>\n",
       "      <th>Grupo</th>\n",
       "      <th></th>\n",
       "    </tr>\n",
       "  </thead>\n",
       "  <tbody>\n",
       "    <tr>\n",
       "      <th>P</th>\n",
       "      <td>6.547441</td>\n",
       "    </tr>\n",
       "    <tr>\n",
       "      <th>K</th>\n",
       "      <td>6.467154</td>\n",
       "    </tr>\n",
       "    <tr>\n",
       "      <th>Y</th>\n",
       "      <td>6.464202</td>\n",
       "    </tr>\n",
       "    <tr>\n",
       "      <th>U</th>\n",
       "      <td>6.463002</td>\n",
       "    </tr>\n",
       "    <tr>\n",
       "      <th>C</th>\n",
       "      <td>6.452954</td>\n",
       "    </tr>\n",
       "  </tbody>\n",
       "</table>\n",
       "</div>"
      ],
      "text/plain": [
       "         Examen\n",
       "Grupo          \n",
       "P      6.547441\n",
       "K      6.467154\n",
       "Y      6.464202\n",
       "U      6.463002\n",
       "C      6.452954"
      ]
     },
     "execution_count": 669,
     "metadata": {},
     "output_type": "execute_result"
    }
   ],
   "source": [
    "# media de los grupos\n",
    "df.groupby(\"Grupo\").mean()[[\"Examen\"]].sort_values(by=\"Examen\", ascending=False).head()"
   ]
  },
  {
   "cell_type": "markdown",
   "metadata": {},
   "source": [
    "## Obtener los 5 grupos con menor valor en media en el rubro de Exámen"
   ]
  },
  {
   "cell_type": "code",
   "execution_count": 670,
   "metadata": {},
   "outputs": [
    {
     "data": {
      "text/html": [
       "<div>\n",
       "<style scoped>\n",
       "    .dataframe tbody tr th:only-of-type {\n",
       "        vertical-align: middle;\n",
       "    }\n",
       "\n",
       "    .dataframe tbody tr th {\n",
       "        vertical-align: top;\n",
       "    }\n",
       "\n",
       "    .dataframe thead th {\n",
       "        text-align: right;\n",
       "    }\n",
       "</style>\n",
       "<table border=\"1\" class=\"dataframe\">\n",
       "  <thead>\n",
       "    <tr style=\"text-align: right;\">\n",
       "      <th></th>\n",
       "      <th>Examen</th>\n",
       "    </tr>\n",
       "    <tr>\n",
       "      <th>Grupo</th>\n",
       "      <th></th>\n",
       "    </tr>\n",
       "  </thead>\n",
       "  <tbody>\n",
       "    <tr>\n",
       "      <th>Q</th>\n",
       "      <td>6.348071</td>\n",
       "    </tr>\n",
       "    <tr>\n",
       "      <th>D</th>\n",
       "      <td>6.340989</td>\n",
       "    </tr>\n",
       "    <tr>\n",
       "      <th>I</th>\n",
       "      <td>6.340057</td>\n",
       "    </tr>\n",
       "    <tr>\n",
       "      <th>Z</th>\n",
       "      <td>6.307994</td>\n",
       "    </tr>\n",
       "    <tr>\n",
       "      <th>G</th>\n",
       "      <td>6.296834</td>\n",
       "    </tr>\n",
       "  </tbody>\n",
       "</table>\n",
       "</div>"
      ],
      "text/plain": [
       "         Examen\n",
       "Grupo          \n",
       "Q      6.348071\n",
       "D      6.340989\n",
       "I      6.340057\n",
       "Z      6.307994\n",
       "G      6.296834"
      ]
     },
     "execution_count": 670,
     "metadata": {},
     "output_type": "execute_result"
    }
   ],
   "source": [
    "# media de los grupos\n",
    "df.groupby(\"Grupo\").mean()[[\"Examen\"]].sort_values(by=\"Examen\", ascending=False).tail()"
   ]
  },
  {
   "cell_type": "markdown",
   "metadata": {},
   "source": [
    "# Cual es la distribucion de la calificacion del rubro de examen"
   ]
  },
  {
   "cell_type": "code",
   "execution_count": 671,
   "metadata": {},
   "outputs": [
    {
     "data": {
      "text/plain": [
       "Text(0.5,1,'Distribucion de la calificacion en el Examen')"
      ]
     },
     "execution_count": 671,
     "metadata": {},
     "output_type": "execute_result"
    },
    {
     "data": {
      "image/png": "[encoded data removed]",
      "text/plain": [
       "<Figure size 432x288 with 1 Axes>"
      ]
     },
     "metadata": {},
     "output_type": "display_data"
    }
   ],
   "source": [
    "# Histogram of grades\n",
    "plt.hist(df['Examen'], bins = 10)\n",
    "plt.xlabel('Examen')\n",
    "plt.ylabel('Conteo')\n",
    "plt.title('Distribucion de la calificacion en el Examen')"
   ]
  },
  {
   "cell_type": "markdown",
   "metadata": {},
   "source": [
    "# Graficar la distribucion de la calificacion del rubro de examen por sexo"
   ]
  },
  {
   "cell_type": "code",
   "execution_count": 672,
   "metadata": {},
   "outputs": [
    {
     "data": {
      "text/plain": [
       "Text(0.5,1,'Grafica de densidad en el Exámen por Sexo')"
      ]
     },
     "execution_count": 672,
     "metadata": {},
     "output_type": "execute_result"
    },
    {
     "data": {
      "image/png": "[encoded data removed]",
      "text/plain": [
       "<Figure size 432x288 with 1 Axes>"
      ]
     },
     "metadata": {},
     "output_type": "display_data"
    }
   ],
   "source": [
    "sns.kdeplot(df[df['Sexo'] == 'M']['Examen'], \n",
    "            label = 'Masculino', shade = True)\n",
    "sns.kdeplot(df[df['Sexo'] == 'F']['Examen'], \n",
    "            label = 'Femenino', shade = True)\n",
    "# Add labeling\n",
    "plt.xlabel('Calificacion')\n",
    "plt.ylabel('Densidad')\n",
    "plt.title('Grafica de densidad en el Exámen por Sexo')"
   ]
  },
  {
   "cell_type": "markdown",
   "metadata": {},
   "source": [
    "##  Cual es el sexo con la media mayor en la Tarea 3"
   ]
  },
  {
   "cell_type": "code",
   "execution_count": 673,
   "metadata": {},
   "outputs": [
    {
     "data": {
      "text/plain": [
       "Sexo\n",
       "F    7.494719\n",
       "M    7.520878\n",
       "Name: Tarea3, dtype: float64"
      ]
     },
     "execution_count": 673,
     "metadata": {},
     "output_type": "execute_result"
    }
   ],
   "source": [
    "df.groupby(\"Sexo\").mean()[\"Tarea3\"]"
   ]
  },
  {
   "cell_type": "markdown",
   "metadata": {},
   "source": [
    "## Cuantos hombres y mujeres tienen una calificación mayor a 8 en el Proyecto 1"
   ]
  },
  {
   "cell_type": "code",
   "execution_count": 674,
   "metadata": {},
   "outputs": [
    {
     "data": {
      "text/plain": [
       "M    430\n",
       "F    386\n",
       "Name: Sexo, dtype: int64"
      ]
     },
     "execution_count": 674,
     "metadata": {},
     "output_type": "execute_result"
    }
   ],
   "source": [
    "df[df['Proyecto1']>=8][\"Sexo\"].value_counts()"
   ]
  },
  {
   "cell_type": "code",
   "execution_count": 675,
   "metadata": {},
   "outputs": [
    {
     "data": {
      "text/plain": [
       "M    0.52139\n",
       "F    0.47861\n",
       "Name: Sexo, dtype: float64"
      ]
     },
     "execution_count": 675,
     "metadata": {},
     "output_type": "execute_result"
    }
   ],
   "source": [
    "df[df['Proyecto1']>8][\"Sexo\"].value_counts(normalize=True)"
   ]
  },
  {
   "cell_type": "markdown",
   "metadata": {},
   "source": [
    "## Podrías identificar a los alumnos problema del grupo A"
   ]
  },
  {
   "cell_type": "code",
   "execution_count": 676,
   "metadata": {},
   "outputs": [
    {
     "data": {
      "text/html": [
       "<div>\n",
       "<style scoped>\n",
       "    .dataframe tbody tr th:only-of-type {\n",
       "        vertical-align: middle;\n",
       "    }\n",
       "\n",
       "    .dataframe tbody tr th {\n",
       "        vertical-align: top;\n",
       "    }\n",
       "\n",
       "    .dataframe thead th {\n",
       "        text-align: right;\n",
       "    }\n",
       "</style>\n",
       "<table border=\"1\" class=\"dataframe\">\n",
       "  <thead>\n",
       "    <tr style=\"text-align: right;\">\n",
       "      <th>Sexo</th>\n",
       "      <th>F</th>\n",
       "      <th>M</th>\n",
       "    </tr>\n",
       "    <tr>\n",
       "      <th>Asiento</th>\n",
       "      <th></th>\n",
       "      <th></th>\n",
       "    </tr>\n",
       "  </thead>\n",
       "  <tbody>\n",
       "    <tr>\n",
       "      <th>0</th>\n",
       "      <td>6.4</td>\n",
       "      <td>NaN</td>\n",
       "    </tr>\n",
       "    <tr>\n",
       "      <th>1</th>\n",
       "      <td>6.0</td>\n",
       "      <td>NaN</td>\n",
       "    </tr>\n",
       "    <tr>\n",
       "      <th>2</th>\n",
       "      <td>NaN</td>\n",
       "      <td>4.4</td>\n",
       "    </tr>\n",
       "    <tr>\n",
       "      <th>3</th>\n",
       "      <td>4.4</td>\n",
       "      <td>NaN</td>\n",
       "    </tr>\n",
       "    <tr>\n",
       "      <th>4</th>\n",
       "      <td>5.2</td>\n",
       "      <td>NaN</td>\n",
       "    </tr>\n",
       "    <tr>\n",
       "      <th>5</th>\n",
       "      <td>5.2</td>\n",
       "      <td>NaN</td>\n",
       "    </tr>\n",
       "    <tr>\n",
       "      <th>6</th>\n",
       "      <td>NaN</td>\n",
       "      <td>5.2</td>\n",
       "    </tr>\n",
       "    <tr>\n",
       "      <th>7</th>\n",
       "      <td>5.4</td>\n",
       "      <td>NaN</td>\n",
       "    </tr>\n",
       "    <tr>\n",
       "      <th>8</th>\n",
       "      <td>NaN</td>\n",
       "      <td>4.4</td>\n",
       "    </tr>\n",
       "    <tr>\n",
       "      <th>9</th>\n",
       "      <td>5.8</td>\n",
       "      <td>NaN</td>\n",
       "    </tr>\n",
       "    <tr>\n",
       "      <th>10</th>\n",
       "      <td>NaN</td>\n",
       "      <td>5.8</td>\n",
       "    </tr>\n",
       "    <tr>\n",
       "      <th>11</th>\n",
       "      <td>NaN</td>\n",
       "      <td>4.2</td>\n",
       "    </tr>\n",
       "    <tr>\n",
       "      <th>12</th>\n",
       "      <td>NaN</td>\n",
       "      <td>5.6</td>\n",
       "    </tr>\n",
       "    <tr>\n",
       "      <th>13</th>\n",
       "      <td>5.0</td>\n",
       "      <td>NaN</td>\n",
       "    </tr>\n",
       "    <tr>\n",
       "      <th>14</th>\n",
       "      <td>6.2</td>\n",
       "      <td>NaN</td>\n",
       "    </tr>\n",
       "    <tr>\n",
       "      <th>15</th>\n",
       "      <td>5.2</td>\n",
       "      <td>NaN</td>\n",
       "    </tr>\n",
       "    <tr>\n",
       "      <th>16</th>\n",
       "      <td>NaN</td>\n",
       "      <td>3.8</td>\n",
       "    </tr>\n",
       "    <tr>\n",
       "      <th>17</th>\n",
       "      <td>NaN</td>\n",
       "      <td>6.2</td>\n",
       "    </tr>\n",
       "    <tr>\n",
       "      <th>18</th>\n",
       "      <td>5.8</td>\n",
       "      <td>NaN</td>\n",
       "    </tr>\n",
       "    <tr>\n",
       "      <th>19</th>\n",
       "      <td>4.2</td>\n",
       "      <td>NaN</td>\n",
       "    </tr>\n",
       "    <tr>\n",
       "      <th>20</th>\n",
       "      <td>5.8</td>\n",
       "      <td>NaN</td>\n",
       "    </tr>\n",
       "    <tr>\n",
       "      <th>21</th>\n",
       "      <td>5.4</td>\n",
       "      <td>NaN</td>\n",
       "    </tr>\n",
       "    <tr>\n",
       "      <th>22</th>\n",
       "      <td>5.0</td>\n",
       "      <td>NaN</td>\n",
       "    </tr>\n",
       "    <tr>\n",
       "      <th>23</th>\n",
       "      <td>6.4</td>\n",
       "      <td>NaN</td>\n",
       "    </tr>\n",
       "    <tr>\n",
       "      <th>24</th>\n",
       "      <td>NaN</td>\n",
       "      <td>6.0</td>\n",
       "    </tr>\n",
       "    <tr>\n",
       "      <th>25</th>\n",
       "      <td>4.8</td>\n",
       "      <td>NaN</td>\n",
       "    </tr>\n",
       "    <tr>\n",
       "      <th>26</th>\n",
       "      <td>4.0</td>\n",
       "      <td>NaN</td>\n",
       "    </tr>\n",
       "    <tr>\n",
       "      <th>27</th>\n",
       "      <td>7.2</td>\n",
       "      <td>NaN</td>\n",
       "    </tr>\n",
       "    <tr>\n",
       "      <th>28</th>\n",
       "      <td>NaN</td>\n",
       "      <td>6.4</td>\n",
       "    </tr>\n",
       "    <tr>\n",
       "      <th>29</th>\n",
       "      <td>6.2</td>\n",
       "      <td>NaN</td>\n",
       "    </tr>\n",
       "    <tr>\n",
       "      <th>...</th>\n",
       "      <td>...</td>\n",
       "      <td>...</td>\n",
       "    </tr>\n",
       "    <tr>\n",
       "      <th>470</th>\n",
       "      <td>NaN</td>\n",
       "      <td>4.0</td>\n",
       "    </tr>\n",
       "    <tr>\n",
       "      <th>471</th>\n",
       "      <td>NaN</td>\n",
       "      <td>5.6</td>\n",
       "    </tr>\n",
       "    <tr>\n",
       "      <th>472</th>\n",
       "      <td>5.0</td>\n",
       "      <td>NaN</td>\n",
       "    </tr>\n",
       "    <tr>\n",
       "      <th>473</th>\n",
       "      <td>NaN</td>\n",
       "      <td>4.0</td>\n",
       "    </tr>\n",
       "    <tr>\n",
       "      <th>474</th>\n",
       "      <td>5.6</td>\n",
       "      <td>NaN</td>\n",
       "    </tr>\n",
       "    <tr>\n",
       "      <th>475</th>\n",
       "      <td>NaN</td>\n",
       "      <td>5.2</td>\n",
       "    </tr>\n",
       "    <tr>\n",
       "      <th>476</th>\n",
       "      <td>4.4</td>\n",
       "      <td>NaN</td>\n",
       "    </tr>\n",
       "    <tr>\n",
       "      <th>477</th>\n",
       "      <td>5.4</td>\n",
       "      <td>NaN</td>\n",
       "    </tr>\n",
       "    <tr>\n",
       "      <th>478</th>\n",
       "      <td>6.0</td>\n",
       "      <td>NaN</td>\n",
       "    </tr>\n",
       "    <tr>\n",
       "      <th>479</th>\n",
       "      <td>NaN</td>\n",
       "      <td>4.8</td>\n",
       "    </tr>\n",
       "    <tr>\n",
       "      <th>480</th>\n",
       "      <td>NaN</td>\n",
       "      <td>7.0</td>\n",
       "    </tr>\n",
       "    <tr>\n",
       "      <th>481</th>\n",
       "      <td>NaN</td>\n",
       "      <td>5.2</td>\n",
       "    </tr>\n",
       "    <tr>\n",
       "      <th>482</th>\n",
       "      <td>5.8</td>\n",
       "      <td>NaN</td>\n",
       "    </tr>\n",
       "    <tr>\n",
       "      <th>483</th>\n",
       "      <td>NaN</td>\n",
       "      <td>5.2</td>\n",
       "    </tr>\n",
       "    <tr>\n",
       "      <th>484</th>\n",
       "      <td>6.6</td>\n",
       "      <td>NaN</td>\n",
       "    </tr>\n",
       "    <tr>\n",
       "      <th>485</th>\n",
       "      <td>NaN</td>\n",
       "      <td>3.4</td>\n",
       "    </tr>\n",
       "    <tr>\n",
       "      <th>486</th>\n",
       "      <td>6.4</td>\n",
       "      <td>NaN</td>\n",
       "    </tr>\n",
       "    <tr>\n",
       "      <th>487</th>\n",
       "      <td>6.6</td>\n",
       "      <td>NaN</td>\n",
       "    </tr>\n",
       "    <tr>\n",
       "      <th>488</th>\n",
       "      <td>4.4</td>\n",
       "      <td>NaN</td>\n",
       "    </tr>\n",
       "    <tr>\n",
       "      <th>489</th>\n",
       "      <td>NaN</td>\n",
       "      <td>6.4</td>\n",
       "    </tr>\n",
       "    <tr>\n",
       "      <th>490</th>\n",
       "      <td>NaN</td>\n",
       "      <td>4.2</td>\n",
       "    </tr>\n",
       "    <tr>\n",
       "      <th>491</th>\n",
       "      <td>5.4</td>\n",
       "      <td>NaN</td>\n",
       "    </tr>\n",
       "    <tr>\n",
       "      <th>492</th>\n",
       "      <td>4.2</td>\n",
       "      <td>NaN</td>\n",
       "    </tr>\n",
       "    <tr>\n",
       "      <th>493</th>\n",
       "      <td>4.8</td>\n",
       "      <td>NaN</td>\n",
       "    </tr>\n",
       "    <tr>\n",
       "      <th>494</th>\n",
       "      <td>4.6</td>\n",
       "      <td>NaN</td>\n",
       "    </tr>\n",
       "    <tr>\n",
       "      <th>495</th>\n",
       "      <td>NaN</td>\n",
       "      <td>5.8</td>\n",
       "    </tr>\n",
       "    <tr>\n",
       "      <th>496</th>\n",
       "      <td>6.8</td>\n",
       "      <td>NaN</td>\n",
       "    </tr>\n",
       "    <tr>\n",
       "      <th>497</th>\n",
       "      <td>NaN</td>\n",
       "      <td>5.6</td>\n",
       "    </tr>\n",
       "    <tr>\n",
       "      <th>498</th>\n",
       "      <td>NaN</td>\n",
       "      <td>6.2</td>\n",
       "    </tr>\n",
       "    <tr>\n",
       "      <th>499</th>\n",
       "      <td>NaN</td>\n",
       "      <td>5.0</td>\n",
       "    </tr>\n",
       "  </tbody>\n",
       "</table>\n",
       "<p>500 rows × 2 columns</p>\n",
       "</div>"
      ],
      "text/plain": [
       "Sexo       F    M\n",
       "Asiento          \n",
       "0        6.4  NaN\n",
       "1        6.0  NaN\n",
       "2        NaN  4.4\n",
       "3        4.4  NaN\n",
       "4        5.2  NaN\n",
       "5        5.2  NaN\n",
       "6        NaN  5.2\n",
       "7        5.4  NaN\n",
       "8        NaN  4.4\n",
       "9        5.8  NaN\n",
       "10       NaN  5.8\n",
       "11       NaN  4.2\n",
       "12       NaN  5.6\n",
       "13       5.0  NaN\n",
       "14       6.2  NaN\n",
       "15       5.2  NaN\n",
       "16       NaN  3.8\n",
       "17       NaN  6.2\n",
       "18       5.8  NaN\n",
       "19       4.2  NaN\n",
       "20       5.8  NaN\n",
       "21       5.4  NaN\n",
       "22       5.0  NaN\n",
       "23       6.4  NaN\n",
       "24       NaN  6.0\n",
       "25       4.8  NaN\n",
       "26       4.0  NaN\n",
       "27       7.2  NaN\n",
       "28       NaN  6.4\n",
       "29       6.2  NaN\n",
       "...      ...  ...\n",
       "470      NaN  4.0\n",
       "471      NaN  5.6\n",
       "472      5.0  NaN\n",
       "473      NaN  4.0\n",
       "474      5.6  NaN\n",
       "475      NaN  5.2\n",
       "476      4.4  NaN\n",
       "477      5.4  NaN\n",
       "478      6.0  NaN\n",
       "479      NaN  4.8\n",
       "480      NaN  7.0\n",
       "481      NaN  5.2\n",
       "482      5.8  NaN\n",
       "483      NaN  5.2\n",
       "484      6.6  NaN\n",
       "485      NaN  3.4\n",
       "486      6.4  NaN\n",
       "487      6.6  NaN\n",
       "488      4.4  NaN\n",
       "489      NaN  6.4\n",
       "490      NaN  4.2\n",
       "491      5.4  NaN\n",
       "492      4.2  NaN\n",
       "493      4.8  NaN\n",
       "494      4.6  NaN\n",
       "495      NaN  5.8\n",
       "496      6.8  NaN\n",
       "497      NaN  5.6\n",
       "498      NaN  6.2\n",
       "499      NaN  5.0\n",
       "\n",
       "[500 rows x 2 columns]"
      ]
     },
     "execution_count": 676,
     "metadata": {},
     "output_type": "execute_result"
    }
   ],
   "source": [
    "table = df[df[\"Grupo\"]==\"A\"].pivot_table(\"Conducta\", index=\"Asiento\", columns=\"Sexo\")\n",
    "table"
   ]
  },
  {
   "cell_type": "code",
   "execution_count": 677,
   "metadata": {},
   "outputs": [
    {
     "data": {
      "text/plain": [
       "<matplotlib.axes._subplots.AxesSubplot at 0x15165190d240>"
      ]
     },
     "execution_count": 677,
     "metadata": {},
     "output_type": "execute_result"
    },
    {
     "data": {
      "image/png": "[encoded data removed]",
      "text/plain": [
       "<Figure size 360x3600 with 2 Axes>"
      ]
     },
     "metadata": {},
     "output_type": "display_data"
    }
   ],
   "source": [
    "fig = plt.figure(figsize=(5,50))\n",
    "sns.heatmap(table, cmap=\"jet_r\")"
   ]
  },
  {
   "cell_type": "code",
   "execution_count": 678,
   "metadata": {},
   "outputs": [
    {
     "data": {
      "text/plain": [
       "164    3.2\n",
       "314    3.2\n",
       "444    3.2\n",
       "281    3.2\n",
       "266    3.2\n",
       "Name: Conducta, dtype: float64"
      ]
     },
     "execution_count": 678,
     "metadata": {},
     "output_type": "execute_result"
    }
   ],
   "source": [
    "df[df[\"Grupo\"] == \"A\"][\"Conducta\"].sort_values(ascending=False).tail()"
   ]
  },
  {
   "cell_type": "markdown",
   "metadata": {},
   "source": [
    "## Cuales son las variables con la mayor correlación entre sí"
   ]
  },
  {
   "cell_type": "code",
   "execution_count": 679,
   "metadata": {},
   "outputs": [
    {
     "data": {
      "text/html": [
       "<div>\n",
       "<style scoped>\n",
       "    .dataframe tbody tr th:only-of-type {\n",
       "        vertical-align: middle;\n",
       "    }\n",
       "\n",
       "    .dataframe tbody tr th {\n",
       "        vertical-align: top;\n",
       "    }\n",
       "\n",
       "    .dataframe thead th {\n",
       "        text-align: right;\n",
       "    }\n",
       "</style>\n",
       "<table border=\"1\" class=\"dataframe\">\n",
       "  <thead>\n",
       "    <tr style=\"text-align: right;\">\n",
       "      <th></th>\n",
       "      <th>Unnamed: 0</th>\n",
       "      <th>Asiento</th>\n",
       "      <th>Tarea1</th>\n",
       "      <th>Tarea2</th>\n",
       "      <th>Tarea3</th>\n",
       "      <th>Tarea4</th>\n",
       "      <th>Tarea5</th>\n",
       "      <th>Tarea6</th>\n",
       "      <th>Asistencia</th>\n",
       "      <th>Conducta</th>\n",
       "      <th>Participacion</th>\n",
       "      <th>Proyecto1</th>\n",
       "      <th>Proyecto2</th>\n",
       "      <th>Examen</th>\n",
       "      <th>Autoevaluacion</th>\n",
       "    </tr>\n",
       "  </thead>\n",
       "  <tbody>\n",
       "    <tr>\n",
       "      <th>Unnamed: 0</th>\n",
       "      <td>1.000000</td>\n",
       "      <td>1.000000</td>\n",
       "      <td>-0.023844</td>\n",
       "      <td>-0.025702</td>\n",
       "      <td>0.012477</td>\n",
       "      <td>-0.008154</td>\n",
       "      <td>0.010351</td>\n",
       "      <td>-0.021854</td>\n",
       "      <td>-0.007409</td>\n",
       "      <td>-0.019673</td>\n",
       "      <td>-0.011860</td>\n",
       "      <td>-0.014324</td>\n",
       "      <td>-0.019299</td>\n",
       "      <td>-0.015960</td>\n",
       "      <td>-0.016709</td>\n",
       "    </tr>\n",
       "    <tr>\n",
       "      <th>Asiento</th>\n",
       "      <td>1.000000</td>\n",
       "      <td>1.000000</td>\n",
       "      <td>-0.023844</td>\n",
       "      <td>-0.025702</td>\n",
       "      <td>0.012477</td>\n",
       "      <td>-0.008154</td>\n",
       "      <td>0.010351</td>\n",
       "      <td>-0.021854</td>\n",
       "      <td>-0.007409</td>\n",
       "      <td>-0.019673</td>\n",
       "      <td>-0.011860</td>\n",
       "      <td>-0.014324</td>\n",
       "      <td>-0.019299</td>\n",
       "      <td>-0.015960</td>\n",
       "      <td>-0.016709</td>\n",
       "    </tr>\n",
       "    <tr>\n",
       "      <th>Tarea1</th>\n",
       "      <td>-0.023844</td>\n",
       "      <td>-0.023844</td>\n",
       "      <td>1.000000</td>\n",
       "      <td>0.011288</td>\n",
       "      <td>-0.011199</td>\n",
       "      <td>0.002260</td>\n",
       "      <td>-0.017133</td>\n",
       "      <td>0.604990</td>\n",
       "      <td>-0.013037</td>\n",
       "      <td>0.555928</td>\n",
       "      <td>0.178843</td>\n",
       "      <td>0.625921</td>\n",
       "      <td>0.269549</td>\n",
       "      <td>0.370167</td>\n",
       "      <td>0.404882</td>\n",
       "    </tr>\n",
       "    <tr>\n",
       "      <th>Tarea2</th>\n",
       "      <td>-0.025702</td>\n",
       "      <td>-0.025702</td>\n",
       "      <td>0.011288</td>\n",
       "      <td>1.000000</td>\n",
       "      <td>-0.000664</td>\n",
       "      <td>0.001820</td>\n",
       "      <td>0.004402</td>\n",
       "      <td>0.299284</td>\n",
       "      <td>-0.003120</td>\n",
       "      <td>0.003804</td>\n",
       "      <td>-0.000906</td>\n",
       "      <td>0.006174</td>\n",
       "      <td>0.205238</td>\n",
       "      <td>0.059434</td>\n",
       "      <td>0.039373</td>\n",
       "    </tr>\n",
       "    <tr>\n",
       "      <th>Tarea3</th>\n",
       "      <td>0.012477</td>\n",
       "      <td>0.012477</td>\n",
       "      <td>-0.011199</td>\n",
       "      <td>-0.000664</td>\n",
       "      <td>1.000000</td>\n",
       "      <td>-0.000733</td>\n",
       "      <td>0.830639</td>\n",
       "      <td>-0.007105</td>\n",
       "      <td>-0.008435</td>\n",
       "      <td>-0.013359</td>\n",
       "      <td>-0.010446</td>\n",
       "      <td>0.436864</td>\n",
       "      <td>-0.011208</td>\n",
       "      <td>0.116094</td>\n",
       "      <td>0.070530</td>\n",
       "    </tr>\n",
       "    <tr>\n",
       "      <th>Tarea4</th>\n",
       "      <td>-0.008154</td>\n",
       "      <td>-0.008154</td>\n",
       "      <td>0.002260</td>\n",
       "      <td>0.001820</td>\n",
       "      <td>-0.000733</td>\n",
       "      <td>1.000000</td>\n",
       "      <td>0.002308</td>\n",
       "      <td>-0.003411</td>\n",
       "      <td>-0.000905</td>\n",
       "      <td>0.000528</td>\n",
       "      <td>-0.000458</td>\n",
       "      <td>0.001254</td>\n",
       "      <td>0.055484</td>\n",
       "      <td>0.015823</td>\n",
       "      <td>0.010332</td>\n",
       "    </tr>\n",
       "    <tr>\n",
       "      <th>Tarea5</th>\n",
       "      <td>0.010351</td>\n",
       "      <td>0.010351</td>\n",
       "      <td>-0.017133</td>\n",
       "      <td>0.004402</td>\n",
       "      <td>0.830639</td>\n",
       "      <td>0.002308</td>\n",
       "      <td>1.000000</td>\n",
       "      <td>-0.075586</td>\n",
       "      <td>-0.005396</td>\n",
       "      <td>-0.014197</td>\n",
       "      <td>-0.008594</td>\n",
       "      <td>0.433456</td>\n",
       "      <td>-0.019568</td>\n",
       "      <td>0.113493</td>\n",
       "      <td>0.068802</td>\n",
       "    </tr>\n",
       "    <tr>\n",
       "      <th>Tarea6</th>\n",
       "      <td>-0.021854</td>\n",
       "      <td>-0.021854</td>\n",
       "      <td>0.604990</td>\n",
       "      <td>0.299284</td>\n",
       "      <td>-0.007105</td>\n",
       "      <td>-0.003411</td>\n",
       "      <td>-0.075586</td>\n",
       "      <td>1.000000</td>\n",
       "      <td>-0.016927</td>\n",
       "      <td>0.328816</td>\n",
       "      <td>0.099303</td>\n",
       "      <td>0.357236</td>\n",
       "      <td>0.303076</td>\n",
       "      <td>0.252937</td>\n",
       "      <td>0.260844</td>\n",
       "    </tr>\n",
       "    <tr>\n",
       "      <th>Asistencia</th>\n",
       "      <td>-0.007409</td>\n",
       "      <td>-0.007409</td>\n",
       "      <td>-0.013037</td>\n",
       "      <td>-0.003120</td>\n",
       "      <td>-0.008435</td>\n",
       "      <td>-0.000905</td>\n",
       "      <td>-0.005396</td>\n",
       "      <td>-0.016927</td>\n",
       "      <td>1.000000</td>\n",
       "      <td>0.823912</td>\n",
       "      <td>0.981462</td>\n",
       "      <td>0.615037</td>\n",
       "      <td>0.928016</td>\n",
       "      <td>0.912025</td>\n",
       "      <td>0.903915</td>\n",
       "    </tr>\n",
       "    <tr>\n",
       "      <th>Conducta</th>\n",
       "      <td>-0.019673</td>\n",
       "      <td>-0.019673</td>\n",
       "      <td>0.555928</td>\n",
       "      <td>0.003804</td>\n",
       "      <td>-0.013359</td>\n",
       "      <td>0.000528</td>\n",
       "      <td>-0.014197</td>\n",
       "      <td>0.328816</td>\n",
       "      <td>0.823912</td>\n",
       "      <td>1.000000</td>\n",
       "      <td>0.917253</td>\n",
       "      <td>0.866032</td>\n",
       "      <td>0.924231</td>\n",
       "      <td>0.967965</td>\n",
       "      <td>0.980899</td>\n",
       "    </tr>\n",
       "    <tr>\n",
       "      <th>Participacion</th>\n",
       "      <td>-0.011860</td>\n",
       "      <td>-0.011860</td>\n",
       "      <td>0.178843</td>\n",
       "      <td>-0.000906</td>\n",
       "      <td>-0.010446</td>\n",
       "      <td>-0.000458</td>\n",
       "      <td>-0.008594</td>\n",
       "      <td>0.099303</td>\n",
       "      <td>0.981462</td>\n",
       "      <td>0.917253</td>\n",
       "      <td>1.000000</td>\n",
       "      <td>0.725144</td>\n",
       "      <td>0.964796</td>\n",
       "      <td>0.968347</td>\n",
       "      <td>0.967022</td>\n",
       "    </tr>\n",
       "    <tr>\n",
       "      <th>Proyecto1</th>\n",
       "      <td>-0.014324</td>\n",
       "      <td>-0.014324</td>\n",
       "      <td>0.625921</td>\n",
       "      <td>0.006174</td>\n",
       "      <td>0.436864</td>\n",
       "      <td>0.001254</td>\n",
       "      <td>0.433456</td>\n",
       "      <td>0.357236</td>\n",
       "      <td>0.615037</td>\n",
       "      <td>0.866032</td>\n",
       "      <td>0.725144</td>\n",
       "      <td>1.000000</td>\n",
       "      <td>0.746956</td>\n",
       "      <td>0.865203</td>\n",
       "      <td>0.860253</td>\n",
       "    </tr>\n",
       "    <tr>\n",
       "      <th>Proyecto2</th>\n",
       "      <td>-0.019299</td>\n",
       "      <td>-0.019299</td>\n",
       "      <td>0.269549</td>\n",
       "      <td>0.205238</td>\n",
       "      <td>-0.011208</td>\n",
       "      <td>0.055484</td>\n",
       "      <td>-0.019568</td>\n",
       "      <td>0.303076</td>\n",
       "      <td>0.928016</td>\n",
       "      <td>0.924231</td>\n",
       "      <td>0.964796</td>\n",
       "      <td>0.746956</td>\n",
       "      <td>1.000000</td>\n",
       "      <td>0.970054</td>\n",
       "      <td>0.966607</td>\n",
       "    </tr>\n",
       "    <tr>\n",
       "      <th>Examen</th>\n",
       "      <td>-0.015960</td>\n",
       "      <td>-0.015960</td>\n",
       "      <td>0.370167</td>\n",
       "      <td>0.059434</td>\n",
       "      <td>0.116094</td>\n",
       "      <td>0.015823</td>\n",
       "      <td>0.113493</td>\n",
       "      <td>0.252937</td>\n",
       "      <td>0.912025</td>\n",
       "      <td>0.967965</td>\n",
       "      <td>0.968347</td>\n",
       "      <td>0.865203</td>\n",
       "      <td>0.970054</td>\n",
       "      <td>1.000000</td>\n",
       "      <td>0.997983</td>\n",
       "    </tr>\n",
       "    <tr>\n",
       "      <th>Autoevaluacion</th>\n",
       "      <td>-0.016709</td>\n",
       "      <td>-0.016709</td>\n",
       "      <td>0.404882</td>\n",
       "      <td>0.039373</td>\n",
       "      <td>0.070530</td>\n",
       "      <td>0.010332</td>\n",
       "      <td>0.068802</td>\n",
       "      <td>0.260844</td>\n",
       "      <td>0.903915</td>\n",
       "      <td>0.980899</td>\n",
       "      <td>0.967022</td>\n",
       "      <td>0.860253</td>\n",
       "      <td>0.966607</td>\n",
       "      <td>0.997983</td>\n",
       "      <td>1.000000</td>\n",
       "    </tr>\n",
       "  </tbody>\n",
       "</table>\n",
       "</div>"
      ],
      "text/plain": [
       "                Unnamed: 0   Asiento    Tarea1    Tarea2    Tarea3    Tarea4  \\\n",
       "Unnamed: 0        1.000000  1.000000 -0.023844 -0.025702  0.012477 -0.008154   \n",
       "Asiento           1.000000  1.000000 -0.023844 -0.025702  0.012477 -0.008154   \n",
       "Tarea1           -0.023844 -0.023844  1.000000  0.011288 -0.011199  0.002260   \n",
       "Tarea2           -0.025702 -0.025702  0.011288  1.000000 -0.000664  0.001820   \n",
       "Tarea3            0.012477  0.012477 -0.011199 -0.000664  1.000000 -0.000733   \n",
       "Tarea4           -0.008154 -0.008154  0.002260  0.001820 -0.000733  1.000000   \n",
       "Tarea5            0.010351  0.010351 -0.017133  0.004402  0.830639  0.002308   \n",
       "Tarea6           -0.021854 -0.021854  0.604990  0.299284 -0.007105 -0.003411   \n",
       "Asistencia       -0.007409 -0.007409 -0.013037 -0.003120 -0.008435 -0.000905   \n",
       "Conducta         -0.019673 -0.019673  0.555928  0.003804 -0.013359  0.000528   \n",
       "Participacion    -0.011860 -0.011860  0.178843 -0.000906 -0.010446 -0.000458   \n",
       "Proyecto1        -0.014324 -0.014324  0.625921  0.006174  0.436864  0.001254   \n",
       "Proyecto2        -0.019299 -0.019299  0.269549  0.205238 -0.011208  0.055484   \n",
       "Examen           -0.015960 -0.015960  0.370167  0.059434  0.116094  0.015823   \n",
       "Autoevaluacion   -0.016709 -0.016709  0.404882  0.039373  0.070530  0.010332   \n",
       "\n",
       "                  Tarea5    Tarea6  Asistencia  Conducta  Participacion  \\\n",
       "Unnamed: 0      0.010351 -0.021854   -0.007409 -0.019673      -0.011860   \n",
       "Asiento         0.010351 -0.021854   -0.007409 -0.019673      -0.011860   \n",
       "Tarea1         -0.017133  0.604990   -0.013037  0.555928       0.178843   \n",
       "Tarea2          0.004402  0.299284   -0.003120  0.003804      -0.000906   \n",
       "Tarea3          0.830639 -0.007105   -0.008435 -0.013359      -0.010446   \n",
       "Tarea4          0.002308 -0.003411   -0.000905  0.000528      -0.000458   \n",
       "Tarea5          1.000000 -0.075586   -0.005396 -0.014197      -0.008594   \n",
       "Tarea6         -0.075586  1.000000   -0.016927  0.328816       0.099303   \n",
       "Asistencia     -0.005396 -0.016927    1.000000  0.823912       0.981462   \n",
       "Conducta       -0.014197  0.328816    0.823912  1.000000       0.917253   \n",
       "Participacion  -0.008594  0.099303    0.981462  0.917253       1.000000   \n",
       "Proyecto1       0.433456  0.357236    0.615037  0.866032       0.725144   \n",
       "Proyecto2      -0.019568  0.303076    0.928016  0.924231       0.964796   \n",
       "Examen          0.113493  0.252937    0.912025  0.967965       0.968347   \n",
       "Autoevaluacion  0.068802  0.260844    0.903915  0.980899       0.967022   \n",
       "\n",
       "                Proyecto1  Proyecto2    Examen  Autoevaluacion  \n",
       "Unnamed: 0      -0.014324  -0.019299 -0.015960       -0.016709  \n",
       "Asiento         -0.014324  -0.019299 -0.015960       -0.016709  \n",
       "Tarea1           0.625921   0.269549  0.370167        0.404882  \n",
       "Tarea2           0.006174   0.205238  0.059434        0.039373  \n",
       "Tarea3           0.436864  -0.011208  0.116094        0.070530  \n",
       "Tarea4           0.001254   0.055484  0.015823        0.010332  \n",
       "Tarea5           0.433456  -0.019568  0.113493        0.068802  \n",
       "Tarea6           0.357236   0.303076  0.252937        0.260844  \n",
       "Asistencia       0.615037   0.928016  0.912025        0.903915  \n",
       "Conducta         0.866032   0.924231  0.967965        0.980899  \n",
       "Participacion    0.725144   0.964796  0.968347        0.967022  \n",
       "Proyecto1        1.000000   0.746956  0.865203        0.860253  \n",
       "Proyecto2        0.746956   1.000000  0.970054        0.966607  \n",
       "Examen           0.865203   0.970054  1.000000        0.997983  \n",
       "Autoevaluacion   0.860253   0.966607  0.997983        1.000000  "
      ]
     },
     "execution_count": 679,
     "metadata": {},
     "output_type": "execute_result"
    }
   ],
   "source": [
    "df.corr()"
   ]
  },
  {
   "cell_type": "code",
   "execution_count": 680,
   "metadata": {},
   "outputs": [
    {
     "data": {
      "text/plain": [
       "<matplotlib.axes._subplots.AxesSubplot at 0x151651646828>"
      ]
     },
     "execution_count": 680,
     "metadata": {},
     "output_type": "execute_result"
    },
    {
     "data": {
      "image/png": "[encoded data removed]",
      "text/plain": [
       "<Figure size 432x288 with 2 Axes>"
      ]
     },
     "metadata": {},
     "output_type": "display_data"
    }
   ],
   "source": [
    "sns.heatmap(df.corr(), cmap=\"jet_r\")"
   ]
  },
  {
   "cell_type": "code",
   "execution_count": 681,
   "metadata": {},
   "outputs": [
    {
     "data": {
      "text/html": [
       "<div>\n",
       "<style scoped>\n",
       "    .dataframe tbody tr th:only-of-type {\n",
       "        vertical-align: middle;\n",
       "    }\n",
       "\n",
       "    .dataframe tbody tr th {\n",
       "        vertical-align: top;\n",
       "    }\n",
       "\n",
       "    .dataframe thead th {\n",
       "        text-align: right;\n",
       "    }\n",
       "</style>\n",
       "<table border=\"1\" class=\"dataframe\">\n",
       "  <thead>\n",
       "    <tr style=\"text-align: right;\">\n",
       "      <th></th>\n",
       "      <th>Var1</th>\n",
       "      <th>Var2</th>\n",
       "      <th>R2</th>\n",
       "    </tr>\n",
       "  </thead>\n",
       "  <tbody>\n",
       "    <tr>\n",
       "      <th>181</th>\n",
       "      <td>Autoevaluacion</td>\n",
       "      <td>Examen</td>\n",
       "      <td>0.995969</td>\n",
       "    </tr>\n",
       "    <tr>\n",
       "      <th>168</th>\n",
       "      <td>Examen</td>\n",
       "      <td>Autoevaluacion</td>\n",
       "      <td>0.995969</td>\n",
       "    </tr>\n",
       "    <tr>\n",
       "      <th>124</th>\n",
       "      <td>Participacion</td>\n",
       "      <td>Asistencia</td>\n",
       "      <td>0.963269</td>\n",
       "    </tr>\n",
       "    <tr>\n",
       "      <th>99</th>\n",
       "      <td>Asistencia</td>\n",
       "      <td>Participacion</td>\n",
       "      <td>0.963269</td>\n",
       "    </tr>\n",
       "    <tr>\n",
       "      <th>116</th>\n",
       "      <td>Conducta</td>\n",
       "      <td>Autoevaluacion</td>\n",
       "      <td>0.962163</td>\n",
       "    </tr>\n",
       "  </tbody>\n",
       "</table>\n",
       "</div>"
      ],
      "text/plain": [
       "               Var1            Var2        R2\n",
       "181  Autoevaluacion          Examen  0.995969\n",
       "168          Examen  Autoevaluacion  0.995969\n",
       "124   Participacion      Asistencia  0.963269\n",
       "99       Asistencia   Participacion  0.963269\n",
       "116        Conducta  Autoevaluacion  0.962163"
      ]
     },
     "execution_count": 681,
     "metadata": {},
     "output_type": "execute_result"
    }
   ],
   "source": [
    "cols = df.columns\n",
    "numeric_variables = list(df.dtypes[df.dtypes != \"object\"].index)\n",
    "\n",
    "arr_var1 = []\n",
    "arr_var2 = []\n",
    "arr_r2= []\n",
    "\n",
    "\n",
    "for columna1 in df[numeric_variables].columns[1:]:\n",
    "    for columna2 in df[numeric_variables].columns[1:]:\n",
    "        if columna1 != columna2:\n",
    "            X = np.array(df[columna1])\n",
    "            y = np.array(df[columna2])\n",
    "            slope, intercept, r_value, p_value, std_err = stats.linregress(X,y)\n",
    "            #print(\"Valor de R2 para {} y {}: {}\".format(columna1, columna2, r_value ** 2))\n",
    "            arr_var1.append(columna1)\n",
    "            arr_var2.append(columna2)\n",
    "            arr_r2.append(r_value**2)\n",
    "            \n",
    "resul = pd.DataFrame()\n",
    "resul[\"Var1\"] = np.array(arr_var1)\n",
    "resul[\"Var2\"] = np.array(arr_var2)\n",
    "resul[\"R2\"] = np.array(arr_r2)\n",
    "resul.sort_values(by=\"R2\", ascending=False).head()"
   ]
  },
  {
   "cell_type": "markdown",
   "metadata": {},
   "source": [
    "## Cuales son las dos variables con el valor más alto de R2 y muestra la gráfica de su regresión lineal"
   ]
  },
  {
   "cell_type": "code",
   "execution_count": 682,
   "metadata": {},
   "outputs": [],
   "source": [
    "X = np.array(df[\"Examen\"])\n",
    "y = np.array(df[\"Autoevaluacion\"])"
   ]
  },
  {
   "cell_type": "code",
   "execution_count": 683,
   "metadata": {},
   "outputs": [],
   "source": [
    "slope, intercept, r_value, p_value, std_err = stats.linregress(X,y)"
   ]
  },
  {
   "cell_type": "code",
   "execution_count": 684,
   "metadata": {},
   "outputs": [
    {
     "data": {
      "text/plain": [
       "0.9959694690586617"
      ]
     },
     "execution_count": 684,
     "metadata": {},
     "output_type": "execute_result"
    }
   ],
   "source": [
    "r_value ** 2"
   ]
  },
  {
   "cell_type": "code",
   "execution_count": 685,
   "metadata": {},
   "outputs": [
    {
     "data": {
      "image/png": "[encoded data removed]",
      "text/plain": [
       "<Figure size 432x288 with 1 Axes>"
      ]
     },
     "metadata": {},
     "output_type": "display_data"
    }
   ],
   "source": [
    "def predict(x):\n",
    "    return slope * x + intercept\n",
    "\n",
    "fitline = predict(X)\n",
    "\n",
    "plt.scatter(X,y)\n",
    "plt.plot(X, fitline, c='r')\n",
    "plt.show()"
   ]
  },
  {
   "cell_type": "code",
   "execution_count": 686,
   "metadata": {},
   "outputs": [],
   "source": [
    "X = np.array(df[\"Participacion\"])\n",
    "y = np.array(df[\"Asistencia\"])"
   ]
  },
  {
   "cell_type": "code",
   "execution_count": 687,
   "metadata": {},
   "outputs": [],
   "source": [
    "slope, intercept, r_value, p_value, std_err = stats.linregress(X,y)"
   ]
  },
  {
   "cell_type": "code",
   "execution_count": 688,
   "metadata": {},
   "outputs": [
    {
     "data": {
      "text/plain": [
       "0.9632686239267616"
      ]
     },
     "execution_count": 688,
     "metadata": {},
     "output_type": "execute_result"
    }
   ],
   "source": [
    "r_value ** 2"
   ]
  },
  {
   "cell_type": "code",
   "execution_count": 689,
   "metadata": {},
   "outputs": [
    {
     "data": {
      "image/png": "[encoded data removed]",
      "text/plain": [
       "<Figure size 432x288 with 1 Axes>"
      ]
     },
     "metadata": {},
     "output_type": "display_data"
    }
   ],
   "source": [
    "def predict(x):\n",
    "    return slope * x + intercept\n",
    "\n",
    "fitline = predict(X)\n",
    "\n",
    "plt.scatter(X,y)\n",
    "plt.plot(X, fitline, c='r')\n",
    "plt.show()"
   ]
  },
  {
   "cell_type": "markdown",
   "metadata": {},
   "source": [
    "## Cual es la correlación que tienen las variables con el rubro de Examen"
   ]
  },
  {
   "cell_type": "code",
   "execution_count": 690,
   "metadata": {},
   "outputs": [
    {
     "data": {
      "text/plain": [
       "Unnamed: 0       -0.015960\n",
       "Asiento          -0.015960\n",
       "Tarea4            0.015823\n",
       "Tarea2            0.059434\n",
       "Tarea5            0.113493\n",
       "Tarea3            0.116094\n",
       "Tarea6            0.252937\n",
       "Tarea1            0.370167\n",
       "Proyecto1         0.865203\n",
       "Asistencia        0.912025\n",
       "Conducta          0.967965\n",
       "Participacion     0.968347\n",
       "Proyecto2         0.970054\n",
       "Autoevaluacion    0.997983\n",
       "Examen            1.000000\n",
       "Name: Examen, dtype: float64"
      ]
     },
     "execution_count": 690,
     "metadata": {},
     "output_type": "execute_result"
    }
   ],
   "source": [
    "df.corr()['Examen'].sort_values()"
   ]
  },
  {
   "cell_type": "code",
   "execution_count": 691,
   "metadata": {},
   "outputs": [],
   "source": [
    "# df is features and labels are the targets \n",
    "# Split by putting 25% in the testing set\n",
    "X = pd.read_csv(\"data/db_alumnos.csv\")\n",
    "y = X.pop(\"Examen\")"
   ]
  },
  {
   "cell_type": "code",
   "execution_count": 692,
   "metadata": {},
   "outputs": [
    {
     "data": {
      "text/html": [
       "<div>\n",
       "<style scoped>\n",
       "    .dataframe tbody tr th:only-of-type {\n",
       "        vertical-align: middle;\n",
       "    }\n",
       "\n",
       "    .dataframe tbody tr th {\n",
       "        vertical-align: top;\n",
       "    }\n",
       "\n",
       "    .dataframe thead th {\n",
       "        text-align: right;\n",
       "    }\n",
       "</style>\n",
       "<table border=\"1\" class=\"dataframe\">\n",
       "  <thead>\n",
       "    <tr style=\"text-align: right;\">\n",
       "      <th></th>\n",
       "      <th>Unnamed: 0</th>\n",
       "      <th>Asiento</th>\n",
       "      <th>Tarea1</th>\n",
       "      <th>Tarea2</th>\n",
       "      <th>Tarea3</th>\n",
       "      <th>Tarea4</th>\n",
       "      <th>Tarea5</th>\n",
       "      <th>Tarea6</th>\n",
       "      <th>Asistencia</th>\n",
       "      <th>Conducta</th>\n",
       "      <th>Participacion</th>\n",
       "      <th>Proyecto1</th>\n",
       "      <th>Proyecto2</th>\n",
       "      <th>Autoevaluacion</th>\n",
       "    </tr>\n",
       "  </thead>\n",
       "  <tbody>\n",
       "    <tr>\n",
       "      <th>0</th>\n",
       "      <td>0</td>\n",
       "      <td>0</td>\n",
       "      <td>4</td>\n",
       "      <td>7</td>\n",
       "      <td>6</td>\n",
       "      <td>9</td>\n",
       "      <td>5.4</td>\n",
       "      <td>5.3</td>\n",
       "      <td>9</td>\n",
       "      <td>6.4</td>\n",
       "      <td>7.96</td>\n",
       "      <td>6.68</td>\n",
       "      <td>7.702</td>\n",
       "      <td>7.1844</td>\n",
       "    </tr>\n",
       "    <tr>\n",
       "      <th>1</th>\n",
       "      <td>1</td>\n",
       "      <td>1</td>\n",
       "      <td>8</td>\n",
       "      <td>7</td>\n",
       "      <td>6</td>\n",
       "      <td>8</td>\n",
       "      <td>5.4</td>\n",
       "      <td>6.5</td>\n",
       "      <td>7</td>\n",
       "      <td>6.0</td>\n",
       "      <td>6.60</td>\n",
       "      <td>6.68</td>\n",
       "      <td>6.770</td>\n",
       "      <td>6.4700</td>\n",
       "    </tr>\n",
       "    <tr>\n",
       "      <th>2</th>\n",
       "      <td>2</td>\n",
       "      <td>2</td>\n",
       "      <td>6</td>\n",
       "      <td>9</td>\n",
       "      <td>6</td>\n",
       "      <td>9</td>\n",
       "      <td>5.4</td>\n",
       "      <td>6.5</td>\n",
       "      <td>5</td>\n",
       "      <td>4.4</td>\n",
       "      <td>4.76</td>\n",
       "      <td>5.48</td>\n",
       "      <td>5.782</td>\n",
       "      <td>5.0004</td>\n",
       "    </tr>\n",
       "    <tr>\n",
       "      <th>3</th>\n",
       "      <td>3</td>\n",
       "      <td>3</td>\n",
       "      <td>3</td>\n",
       "      <td>9</td>\n",
       "      <td>6</td>\n",
       "      <td>8</td>\n",
       "      <td>5.4</td>\n",
       "      <td>5.6</td>\n",
       "      <td>6</td>\n",
       "      <td>4.4</td>\n",
       "      <td>5.36</td>\n",
       "      <td>5.28</td>\n",
       "      <td>6.012</td>\n",
       "      <td>5.1864</td>\n",
       "    </tr>\n",
       "    <tr>\n",
       "      <th>4</th>\n",
       "      <td>4</td>\n",
       "      <td>4</td>\n",
       "      <td>4</td>\n",
       "      <td>6</td>\n",
       "      <td>6</td>\n",
       "      <td>9</td>\n",
       "      <td>5.4</td>\n",
       "      <td>5.0</td>\n",
       "      <td>7</td>\n",
       "      <td>5.2</td>\n",
       "      <td>6.28</td>\n",
       "      <td>5.88</td>\n",
       "      <td>6.396</td>\n",
       "      <td>5.8992</td>\n",
       "    </tr>\n",
       "  </tbody>\n",
       "</table>\n",
       "</div>"
      ],
      "text/plain": [
       "   Unnamed: 0  Asiento  Tarea1  Tarea2  Tarea3  Tarea4  Tarea5  Tarea6  \\\n",
       "0           0        0       4       7       6       9     5.4     5.3   \n",
       "1           1        1       8       7       6       8     5.4     6.5   \n",
       "2           2        2       6       9       6       9     5.4     6.5   \n",
       "3           3        3       3       9       6       8     5.4     5.6   \n",
       "4           4        4       4       6       6       9     5.4     5.0   \n",
       "\n",
       "   Asistencia  Conducta  Participacion  Proyecto1  Proyecto2  Autoevaluacion  \n",
       "0           9       6.4           7.96       6.68      7.702          7.1844  \n",
       "1           7       6.0           6.60       6.68      6.770          6.4700  \n",
       "2           5       4.4           4.76       5.48      5.782          5.0004  \n",
       "3           6       4.4           5.36       5.28      6.012          5.1864  \n",
       "4           7       5.2           6.28       5.88      6.396          5.8992  "
      ]
     },
     "execution_count": 692,
     "metadata": {},
     "output_type": "execute_result"
    }
   ],
   "source": [
    "numeric_variables = list(X.dtypes[X.dtypes != \"object\"].index)\n",
    "X[numeric_variables].head()"
   ]
  },
  {
   "cell_type": "code",
   "execution_count": 693,
   "metadata": {},
   "outputs": [],
   "source": [
    "X_train, X_test, y_train, y_test = train_test_split(X[numeric_variables], y, test_size=0.3, random_state=1)"
   ]
  },
  {
   "cell_type": "code",
   "execution_count": 694,
   "metadata": {},
   "outputs": [
    {
     "name": "stdout",
     "output_type": "stream",
     "text": [
      "R^2: 1.0\n"
     ]
    }
   ],
   "source": [
    "model = LinearRegression()\n",
    "model.fit(X_train, y_train)\n",
    "print (\"R^2:\", model.score(X_test, y_test).round(6))"
   ]
  },
  {
   "cell_type": "code",
   "execution_count": 695,
   "metadata": {},
   "outputs": [],
   "source": [
    "data = pd.DataFrame({\"Original\": y, \"Prediccion\": model.predict(X[numeric_variables])})"
   ]
  },
  {
   "cell_type": "code",
   "execution_count": 696,
   "metadata": {},
   "outputs": [
    {
     "name": "stderr",
     "output_type": "stream",
     "text": [
      "/home/jorge/anaconda3/lib/python3.6/site-packages/matplotlib/axes/_axes.py:6462: UserWarning: The 'normed' kwarg is deprecated, and has been replaced by the 'density' kwarg.\n",
      "  warnings.warn(\"The 'normed' kwarg is deprecated, and has been \"\n",
      "/home/jorge/anaconda3/lib/python3.6/site-packages/matplotlib/axes/_axes.py:6462: UserWarning: The 'normed' kwarg is deprecated, and has been replaced by the 'density' kwarg.\n",
      "  warnings.warn(\"The 'normed' kwarg is deprecated, and has been \"\n"
     ]
    },
    {
     "data": {
      "text/plain": [
       "<seaborn.axisgrid.JointGrid at 0x15165157bd30>"
      ]
     },
     "execution_count": 696,
     "metadata": {},
     "output_type": "execute_result"
    },
    {
     "data": {
      "image/png": "[encoded data removed]",
      "text/plain": [
       "<Figure size 432x432 with 3 Axes>"
      ]
     },
     "metadata": {},
     "output_type": "display_data"
    }
   ],
   "source": [
    "sns.jointplot(\"Original\", \"Prediccion\", data=data, kind=\"reg\")"
   ]
  },
  {
   "cell_type": "code",
   "execution_count": 697,
   "metadata": {},
   "outputs": [
    {
     "name": "stdout",
     "output_type": "stream",
     "text": [
      "Coefficients: \n",
      " [-1.08296396e-15 -9.97481669e-16  3.27386450e-02  1.49340621e-02\n",
      "  3.45725507e-02  1.49340621e-02  3.45725507e-02  1.49340621e-02\n",
      "  1.99921803e-01  1.26500811e-01  1.70553406e-01  1.00345470e-01\n",
      "  1.23867603e-01  1.33958880e-01]\n"
     ]
    }
   ],
   "source": [
    "# The coefficients\n",
    "print('Coefficients: \\n', model.coef_)"
   ]
  },
  {
   "cell_type": "code",
   "execution_count": 698,
   "metadata": {},
   "outputs": [
    {
     "name": "stdout",
     "output_type": "stream",
     "text": [
      "Mean squared error: 0.00\n",
      "Variance score: 1.00\n"
     ]
    }
   ],
   "source": [
    "from sklearn.metrics import mean_squared_error, r2_score\n",
    "\n",
    "# Make predictions using the testing set\n",
    "y_pred = model.predict(X_test)\n",
    "\n",
    "# The mean squared error\n",
    "print(\"Mean squared error: %.2f\"\n",
    "      % mean_squared_error(y_test, y_pred))\n",
    "# Explained variance score: 1 is perfect prediction\n",
    "print('Variance score: %.2f' % r2_score(y_test, y_pred))"
   ]
  },
  {
   "cell_type": "code",
   "execution_count": 715,
   "metadata": {},
   "outputs": [
    {
     "data": {
      "text/plain": [
       "[<matplotlib.lines.Line2D at 0x1516510ea1d0>]"
      ]
     },
     "execution_count": 715,
     "metadata": {},
     "output_type": "execute_result"
    },
    {
     "data": {
      "image/png": "[encoded data removed]",
      "text/plain": [
       "<Figure size 432x288 with 1 Axes>"
      ]
     },
     "metadata": {},
     "output_type": "display_data"
    }
   ],
   "source": [
    "\n",
    "plt.plot(y_test, y_pred, color='blue', linewidth=3)"
   ]
  },
  {
   "cell_type": "markdown",
   "metadata": {},
   "source": [
    "### OLS"
   ]
  },
  {
   "cell_type": "code",
   "execution_count": 699,
   "metadata": {},
   "outputs": [],
   "source": [
    "result = sm.ols(formula='Prediccion ~ Original', data=data).fit()"
   ]
  },
  {
   "cell_type": "code",
   "execution_count": 700,
   "metadata": {},
   "outputs": [
    {
     "name": "stdout",
     "output_type": "stream",
     "text": [
      "Intercept   -4.318768e-14\n",
      "Original     1.000000e+00\n",
      "dtype: float64\n"
     ]
    }
   ],
   "source": [
    "print(result.params)"
   ]
  },
  {
   "cell_type": "code",
   "execution_count": 701,
   "metadata": {},
   "outputs": [
    {
     "name": "stdout",
     "output_type": "stream",
     "text": [
      "                            OLS Regression Results                            \n",
      "==============================================================================\n",
      "Dep. Variable:             Prediccion   R-squared:                       1.000\n",
      "Model:                            OLS   Adj. R-squared:                  1.000\n",
      "Method:                 Least Squares   F-statistic:                 1.296e+29\n",
      "Date:                Tue, 06 Nov 2018   Prob (F-statistic):               0.00\n",
      "Time:                        15:56:05   Log-Likelihood:             3.5640e+05\n",
      "No. Observations:               13000   AIC:                        -7.128e+05\n",
      "Df Residuals:                   12998   BIC:                        -7.128e+05\n",
      "Df Model:                           1                                         \n",
      "Covariance Type:            nonrobust                                         \n",
      "==============================================================================\n",
      "                 coef    std err          t      P>|t|      [0.025      0.975]\n",
      "------------------------------------------------------------------------------\n",
      "Intercept  -4.319e-14    1.8e-14     -2.402      0.016   -7.84e-14   -7.95e-15\n",
      "Original       1.0000   2.78e-15    3.6e+14      0.000       1.000       1.000\n",
      "==============================================================================\n",
      "Omnibus:                    11348.904   Durbin-Watson:                   0.024\n",
      "Prob(Omnibus):                  0.000   Jarque-Bera (JB):              779.846\n",
      "Skew:                          -0.001   Prob(JB):                    4.56e-170\n",
      "Kurtosis:                       1.800   Cond. No.                         45.2\n",
      "==============================================================================\n",
      "\n",
      "Warnings:\n",
      "[1] Standard Errors assume that the covariance matrix of the errors is correctly specified.\n"
     ]
    }
   ],
   "source": [
    "print(result.summary())"
   ]
  },
  {
   "cell_type": "code",
   "execution_count": 702,
   "metadata": {},
   "outputs": [
    {
     "data": {
      "text/plain": [
       "array([[<matplotlib.axes._subplots.AxesSubplot object at 0x1516513af390>,\n",
       "        <matplotlib.axes._subplots.AxesSubplot object at 0x151651335630>]],\n",
       "      dtype=object)"
      ]
     },
     "execution_count": 702,
     "metadata": {},
     "output_type": "execute_result"
    },
    {
     "data": {
      "image/png": "[encoded data removed]",
      "text/plain": [
       "<Figure size 432x288 with 2 Axes>"
      ]
     },
     "metadata": {},
     "output_type": "display_data"
    }
   ],
   "source": [
    "data.hist()"
   ]
  },
  {
   "cell_type": "code",
   "execution_count": null,
   "metadata": {},
   "outputs": [],
   "source": []
  }
 ],
 "metadata": {
  "kernelspec": {
   "display_name": "Python 3 (ipykernel)",
   "language": "python",
   "name": "python3"
  },
  "language_info": {
   "codemirror_mode": {
    "name": "ipython",
    "version": 3
   },
   "file_extension": ".py",
   "mimetype": "text/x-python",
   "name": "python",
   "nbconvert_exporter": "python",
   "pygments_lexer": "ipython3",
   "version": "3.11.5"
  }
 },
 "nbformat": 4,
 "nbformat_minor": 2
}
