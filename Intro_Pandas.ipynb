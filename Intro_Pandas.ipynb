{
 "cells": [
  {
   "cell_type": "markdown",
   "metadata": {},
   "source": [
    "# Estadística con Python"
   ]
  },
  {
   "cell_type": "markdown",
   "metadata": {},
   "source": [
    "## Introducción a Pandas\n",
    "\n",
    "### GitHub repository: https://github.com/jorgemauricio/python_statistics\n",
    "\n",
    "### Instructor: Jorge Mauricio\n",
    "\n",
    "### Base de datos: Stanford Open Policing Project ([Montana](https://openpolicing.stanford.edu/data)) "
   ]
  },
  {
   "cell_type": "code",
   "execution_count": 63,
   "metadata": {},
   "outputs": [],
   "source": [
    "# librerías\n",
    "import pandas as pd\n",
    "import matplotlib.pyplot as plt\n",
    "%matplotlib inline"
   ]
  },
  {
   "cell_type": "code",
   "execution_count": 64,
   "metadata": {},
   "outputs": [],
   "source": [
    "# leer csv\n",
    "df = pd.read_csv(\"data/Montana.csv\", low_memory=False)"
   ]
  },
  {
   "cell_type": "code",
   "execution_count": 65,
   "metadata": {},
   "outputs": [
    {
     "data": {
      "text/html": [
       "<div>\n",
       "<style scoped>\n",
       "    .dataframe tbody tr th:only-of-type {\n",
       "        vertical-align: middle;\n",
       "    }\n",
       "\n",
       "    .dataframe tbody tr th {\n",
       "        vertical-align: top;\n",
       "    }\n",
       "\n",
       "    .dataframe thead th {\n",
       "        text-align: right;\n",
       "    }\n",
       "</style>\n",
       "<table border=\"1\" class=\"dataframe\">\n",
       "  <thead>\n",
       "    <tr style=\"text-align: right;\">\n",
       "      <th></th>\n",
       "      <th>raw_row_number</th>\n",
       "      <th>date</th>\n",
       "      <th>time</th>\n",
       "      <th>location</th>\n",
       "      <th>lat</th>\n",
       "      <th>lng</th>\n",
       "      <th>county_name</th>\n",
       "      <th>subject_age</th>\n",
       "      <th>subject_race</th>\n",
       "      <th>subject_sex</th>\n",
       "      <th>...</th>\n",
       "      <th>reason_for_stop</th>\n",
       "      <th>vehicle_make</th>\n",
       "      <th>vehicle_model</th>\n",
       "      <th>vehicle_type</th>\n",
       "      <th>vehicle_registration_state</th>\n",
       "      <th>vehicle_year</th>\n",
       "      <th>raw_Race</th>\n",
       "      <th>raw_Ethnicity</th>\n",
       "      <th>raw_SearchType</th>\n",
       "      <th>raw_search_basis</th>\n",
       "    </tr>\n",
       "  </thead>\n",
       "  <tbody>\n",
       "    <tr>\n",
       "      <th>0</th>\n",
       "      <td>1</td>\n",
       "      <td>2009-01-01</td>\n",
       "      <td>02:10:53</td>\n",
       "      <td>US 89 N MM10 (SB)</td>\n",
       "      <td>47.572738</td>\n",
       "      <td>-111.802932</td>\n",
       "      <td>Cascade County</td>\n",
       "      <td>16.0</td>\n",
       "      <td>white</td>\n",
       "      <td>female</td>\n",
       "      <td>...</td>\n",
       "      <td>--- - HIT AND RUN</td>\n",
       "      <td>FORD</td>\n",
       "      <td>EXPLORER</td>\n",
       "      <td>SPORT UTILITY</td>\n",
       "      <td>MT</td>\n",
       "      <td>1994.0</td>\n",
       "      <td>W</td>\n",
       "      <td>N</td>\n",
       "      <td>NO SEARCH REQUESTED</td>\n",
       "      <td>NaN</td>\n",
       "    </tr>\n",
       "    <tr>\n",
       "      <th>1</th>\n",
       "      <td>2</td>\n",
       "      <td>2009-01-02</td>\n",
       "      <td>11:34:19</td>\n",
       "      <td>HWY 93 SO AND ANNS LANE S/B</td>\n",
       "      <td>46.761225</td>\n",
       "      <td>-114.081142</td>\n",
       "      <td>Missoula County</td>\n",
       "      <td>19.0</td>\n",
       "      <td>white</td>\n",
       "      <td>male</td>\n",
       "      <td>...</td>\n",
       "      <td>EXPIRED TAG ( - MONTHS OR LESS )</td>\n",
       "      <td>GMC</td>\n",
       "      <td>TK</td>\n",
       "      <td>TRUCK</td>\n",
       "      <td>MT</td>\n",
       "      <td>1996.0</td>\n",
       "      <td>W</td>\n",
       "      <td>N</td>\n",
       "      <td>NO SEARCH REQUESTED</td>\n",
       "      <td>NaN</td>\n",
       "    </tr>\n",
       "    <tr>\n",
       "      <th>2</th>\n",
       "      <td>3</td>\n",
       "      <td>2009-01-03</td>\n",
       "      <td>11:36:42</td>\n",
       "      <td>P007 HWY 93 MM 77 N/B</td>\n",
       "      <td>46.694683</td>\n",
       "      <td>-114.073505</td>\n",
       "      <td>Missoula County</td>\n",
       "      <td>17.0</td>\n",
       "      <td>white</td>\n",
       "      <td>male</td>\n",
       "      <td>...</td>\n",
       "      <td>SPEED</td>\n",
       "      <td>GMC</td>\n",
       "      <td>YUKON</td>\n",
       "      <td>SPORT UTILITY</td>\n",
       "      <td>MT</td>\n",
       "      <td>1999.0</td>\n",
       "      <td>W</td>\n",
       "      <td>N</td>\n",
       "      <td>NO SEARCH REQUESTED</td>\n",
       "      <td>NaN</td>\n",
       "    </tr>\n",
       "    <tr>\n",
       "      <th>3</th>\n",
       "      <td>4</td>\n",
       "      <td>2009-01-04</td>\n",
       "      <td>10:33:11</td>\n",
       "      <td>P007 HWY 93 MM 81 S/B</td>\n",
       "      <td>46.727388</td>\n",
       "      <td>-114.079027</td>\n",
       "      <td>Missoula County</td>\n",
       "      <td>17.0</td>\n",
       "      <td>NaN</td>\n",
       "      <td>female</td>\n",
       "      <td>...</td>\n",
       "      <td>SPEED</td>\n",
       "      <td>HOND</td>\n",
       "      <td>CR-V</td>\n",
       "      <td>SPORT UTILITY</td>\n",
       "      <td>MT</td>\n",
       "      <td>2002.0</td>\n",
       "      <td>W</td>\n",
       "      <td>NaN</td>\n",
       "      <td>NaN</td>\n",
       "      <td>NaN</td>\n",
       "    </tr>\n",
       "    <tr>\n",
       "      <th>4</th>\n",
       "      <td>5</td>\n",
       "      <td>2009-01-04</td>\n",
       "      <td>10:46:43</td>\n",
       "      <td>P007 HWY 93 MM 81 N/B</td>\n",
       "      <td>46.729518</td>\n",
       "      <td>-114.079150</td>\n",
       "      <td>Missoula County</td>\n",
       "      <td>31.0</td>\n",
       "      <td>NaN</td>\n",
       "      <td>male</td>\n",
       "      <td>...</td>\n",
       "      <td>SPEED</td>\n",
       "      <td>TOYT</td>\n",
       "      <td>TERCEL</td>\n",
       "      <td>SEDAN</td>\n",
       "      <td>MT</td>\n",
       "      <td>1992.0</td>\n",
       "      <td>I</td>\n",
       "      <td>NaN</td>\n",
       "      <td>NaN</td>\n",
       "      <td>NaN</td>\n",
       "    </tr>\n",
       "  </tbody>\n",
       "</table>\n",
       "<p>5 rows × 30 columns</p>\n",
       "</div>"
      ],
      "text/plain": [
       "  raw_row_number        date      time                     location  \\\n",
       "0              1  2009-01-01  02:10:53            US 89 N MM10 (SB)   \n",
       "1              2  2009-01-02  11:34:19  HWY 93 SO AND ANNS LANE S/B   \n",
       "2              3  2009-01-03  11:36:42        P007 HWY 93 MM 77 N/B   \n",
       "3              4  2009-01-04  10:33:11        P007 HWY 93 MM 81 S/B   \n",
       "4              5  2009-01-04  10:46:43        P007 HWY 93 MM 81 N/B   \n",
       "\n",
       "         lat         lng      county_name  subject_age subject_race  \\\n",
       "0  47.572738 -111.802932   Cascade County         16.0        white   \n",
       "1  46.761225 -114.081142  Missoula County         19.0        white   \n",
       "2  46.694683 -114.073505  Missoula County         17.0        white   \n",
       "3  46.727388 -114.079027  Missoula County         17.0          NaN   \n",
       "4  46.729518 -114.079150  Missoula County         31.0          NaN   \n",
       "\n",
       "  subject_sex  ...                   reason_for_stop vehicle_make  \\\n",
       "0      female  ...                 --- - HIT AND RUN         FORD   \n",
       "1        male  ...  EXPIRED TAG ( - MONTHS OR LESS )          GMC   \n",
       "2        male  ...                             SPEED          GMC   \n",
       "3      female  ...                             SPEED         HOND   \n",
       "4        male  ...                             SPEED         TOYT   \n",
       "\n",
       "  vehicle_model   vehicle_type  vehicle_registration_state  vehicle_year  \\\n",
       "0      EXPLORER  SPORT UTILITY                          MT        1994.0   \n",
       "1            TK          TRUCK                          MT        1996.0   \n",
       "2         YUKON  SPORT UTILITY                          MT        1999.0   \n",
       "3          CR-V  SPORT UTILITY                          MT        2002.0   \n",
       "4        TERCEL          SEDAN                          MT        1992.0   \n",
       "\n",
       "  raw_Race raw_Ethnicity       raw_SearchType raw_search_basis  \n",
       "0        W             N  NO SEARCH REQUESTED              NaN  \n",
       "1        W             N  NO SEARCH REQUESTED              NaN  \n",
       "2        W             N  NO SEARCH REQUESTED              NaN  \n",
       "3        W           NaN                  NaN              NaN  \n",
       "4        I           NaN                  NaN              NaN  \n",
       "\n",
       "[5 rows x 30 columns]"
      ]
     },
     "execution_count": 65,
     "metadata": {},
     "output_type": "execute_result"
    }
   ],
   "source": [
    "# estructura del dataFrame Montana\n",
    "df.head()"
   ]
  },
  {
   "cell_type": "code",
   "execution_count": 66,
   "metadata": {},
   "outputs": [
    {
     "data": {
      "text/plain": [
       "(921228, 30)"
      ]
     },
     "execution_count": 66,
     "metadata": {},
     "output_type": "execute_result"
    }
   ],
   "source": [
    "# cantidad de columnas y filas\n",
    "df.shape"
   ]
  },
  {
   "cell_type": "code",
   "execution_count": 67,
   "metadata": {},
   "outputs": [
    {
     "data": {
      "text/plain": [
       "raw_row_number                 object\n",
       "date                           object\n",
       "time                           object\n",
       "location                       object\n",
       "lat                           float64\n",
       "lng                           float64\n",
       "county_name                    object\n",
       "subject_age                   float64\n",
       "subject_race                   object\n",
       "subject_sex                    object\n",
       "department_name                object\n",
       "type                           object\n",
       "violation                      object\n",
       "arrest_made                      bool\n",
       "citation_issued                  bool\n",
       "warning_issued                   bool\n",
       "outcome                        object\n",
       "frisk_performed                object\n",
       "search_conducted                 bool\n",
       "search_basis                   object\n",
       "reason_for_stop                object\n",
       "vehicle_make                   object\n",
       "vehicle_model                  object\n",
       "vehicle_type                   object\n",
       "vehicle_registration_state     object\n",
       "vehicle_year                  float64\n",
       "raw_Race                       object\n",
       "raw_Ethnicity                  object\n",
       "raw_SearchType                 object\n",
       "raw_search_basis               object\n",
       "dtype: object"
      ]
     },
     "execution_count": 67,
     "metadata": {},
     "output_type": "execute_result"
    }
   ],
   "source": [
    "# tipos de datos de cada columna\n",
    "df.dtypes"
   ]
  },
  {
   "cell_type": "code",
   "execution_count": 68,
   "metadata": {},
   "outputs": [
    {
     "data": {
      "text/plain": [
       "raw_row_number                     0\n",
       "date                              12\n",
       "time                              12\n",
       "location                        3304\n",
       "lat                              436\n",
       "lng                              436\n",
       "county_name                        4\n",
       "subject_age                     3813\n",
       "subject_race                     106\n",
       "subject_sex                      119\n",
       "department_name                    0\n",
       "type                               0\n",
       "violation                         73\n",
       "arrest_made                        0\n",
       "citation_issued                    0\n",
       "warning_issued                     0\n",
       "outcome                          270\n",
       "frisk_performed                   94\n",
       "search_conducted                   0\n",
       "search_basis                  917635\n",
       "reason_for_stop                   11\n",
       "vehicle_make                    4520\n",
       "vehicle_model                  25009\n",
       "vehicle_type                   67271\n",
       "vehicle_registration_state     34411\n",
       "vehicle_year                    8442\n",
       "raw_Race                           8\n",
       "raw_Ethnicity                     98\n",
       "raw_SearchType                    94\n",
       "raw_search_basis              904440\n",
       "dtype: int64"
      ]
     },
     "execution_count": 68,
     "metadata": {},
     "output_type": "execute_result"
    }
   ],
   "source": [
    "# contabilizar los valores nulos\n",
    "df.isnull().sum()"
   ]
  },
  {
   "cell_type": "markdown",
   "metadata": {},
   "source": [
    "## Remover columnas que solo contienen valores nulos"
   ]
  },
  {
   "cell_type": "code",
   "execution_count": 41,
   "metadata": {},
   "outputs": [],
   "source": [
    "# eliminar la columna de \"police_department\"\n",
    "# df.drop(\"search_basis\", axis=\"columns\", inplace=True)"
   ]
  },
  {
   "cell_type": "code",
   "execution_count": 42,
   "metadata": {},
   "outputs": [
    {
     "data": {
      "text/plain": [
       "(921228, 29)"
      ]
     },
     "execution_count": 42,
     "metadata": {},
     "output_type": "execute_result"
    }
   ],
   "source": [
    "# contabilizar columnas y filas\n",
    "#df.shape"
   ]
  },
  {
   "cell_type": "code",
   "execution_count": 43,
   "metadata": {},
   "outputs": [
    {
     "data": {
      "text/plain": [
       "Index(['raw_row_number', 'date', 'time', 'location', 'lat', 'lng',\n",
       "       'county_name', 'subject_age', 'subject_race', 'subject_sex',\n",
       "       'department_name', 'type', 'violation', 'arrest_made',\n",
       "       'citation_issued', 'warning_issued', 'outcome', 'frisk_performed',\n",
       "       'search_conducted', 'reason_for_stop', 'vehicle_make', 'vehicle_model',\n",
       "       'vehicle_type', 'vehicle_registration_state', 'vehicle_year',\n",
       "       'raw_Race', 'raw_Ethnicity', 'raw_SearchType', 'raw_search_basis'],\n",
       "      dtype='object')"
      ]
     },
     "execution_count": 43,
     "metadata": {},
     "output_type": "execute_result"
    }
   ],
   "source": [
    "# checar columnas\n",
    "# df.columns"
   ]
  },
  {
   "cell_type": "code",
   "execution_count": 14,
   "metadata": {},
   "outputs": [
    {
     "data": {
      "text/plain": [
       "(921228, 29)"
      ]
     },
     "execution_count": 14,
     "metadata": {},
     "output_type": "execute_result"
    }
   ],
   "source": [
    "# método alternativo\n",
    "# df.dropna(axis='columns', how='all').shape"
   ]
  },
  {
   "cell_type": "markdown",
   "metadata": {},
   "source": [
    "NOTA: \n",
    "- Existe más de una forma de eliminar datos nulos\n",
    "- Verificar los argumentos de cada método"
   ]
  },
  {
   "cell_type": "markdown",
   "metadata": {},
   "source": [
    "## ¿Qué genero es detenido más por exceso de velocidad?"
   ]
  },
  {
   "cell_type": "code",
   "execution_count": 69,
   "metadata": {},
   "outputs": [
    {
     "data": {
      "text/plain": [
       "male      17\n",
       "female    12\n",
       "Name: subject_sex, dtype: int64"
      ]
     },
     "execution_count": 69,
     "metadata": {},
     "output_type": "execute_result"
    }
   ],
   "source": [
    "# Número de mujeres y hombres que son detenidos por exceso de velocidad\n",
    "df[df[\"violation\"] == 'SPEED'][\"subject_sex\"].value_counts()"
   ]
  },
  {
   "cell_type": "code",
   "execution_count": 70,
   "metadata": {},
   "outputs": [
    {
     "data": {
      "text/plain": [
       "male      0.586207\n",
       "female    0.413793\n",
       "Name: subject_sex, dtype: float64"
      ]
     },
     "execution_count": 70,
     "metadata": {},
     "output_type": "execute_result"
    }
   ],
   "source": [
    "# Porcentaje de mujeres y hombres que son detenidos por exceso de velocidad\n",
    "df[df[\"violation\"] == 'SPEED'][\"subject_sex\"].value_counts(normalize=True)"
   ]
  },
  {
   "cell_type": "code",
   "execution_count": 71,
   "metadata": {},
   "outputs": [
    {
     "data": {
      "text/plain": [
       "male      0.586207\n",
       "female    0.413793\n",
       "Name: subject_sex, dtype: float64"
      ]
     },
     "execution_count": 71,
     "metadata": {},
     "output_type": "execute_result"
    }
   ],
   "source": [
    "# forma alternativa\n",
    "df.loc[df[\"violation\"] == 'SPEED', \"subject_sex\"].value_counts(normalize=True)"
   ]
  },
  {
   "cell_type": "code",
   "execution_count": 72,
   "metadata": {},
   "outputs": [
    {
     "data": {
      "text/plain": [
       "111 - SPEED OVER LEGAL                                                                          0.387696\n",
       "111 - SPEED OVER LEGAL|240 - INSURANCE                                                          0.052461\n",
       "160 - LIGHT VIOLATIONS                                                                          0.046338\n",
       "111 - SPEED OVER LEGAL|206 - VEHICLE LICENSE                                                    0.029783\n",
       "111 - SPEED OVER LEGAL|202 - DRIVERS LICENSE                                                    0.022990\n",
       "                                                                                                  ...   \n",
       "125 - DRIVING OVER CENTERLINE|111 - SPEED OVER LEGAL|207 - DISPLAYING ONLY ONE LICENSE PLATE    0.000002\n",
       "296 - OTHER|113 - OPEN CONTAINER|265 - ILLEGAL POSSESSION OF LIQUOR                             0.000002\n",
       "140 - IMPROPER TURN|113 - OPEN CONTAINER                                                        0.000002\n",
       "202 - DRIVERS LICENSE|206 - VEHICLE LICENSE|125 - DRIVING OVER CENTERLINE                       0.000002\n",
       "150 - HIT AND RUN|206 - VEHICLE LICENSE|296 - OTHER                                             0.000002\n",
       "Name: violation, Length: 8857, dtype: float64"
      ]
     },
     "execution_count": 72,
     "metadata": {},
     "output_type": "execute_result"
    }
   ],
   "source": [
    "# cuando un hombre es detenido, que porcentaje es por exceso de velocidad?\n",
    "df[df['subject_sex'] == \"male\"][\"violation\"].value_counts(normalize=True)"
   ]
  },
  {
   "cell_type": "code",
   "execution_count": 73,
   "metadata": {},
   "outputs": [
    {
     "data": {
      "text/plain": [
       "111 - SPEED OVER LEGAL                                                                  0.407109\n",
       "111 - SPEED OVER LEGAL|240 - INSURANCE                                                  0.060781\n",
       "160 - LIGHT VIOLATIONS                                                                  0.051146\n",
       "111 - SPEED OVER LEGAL|206 - VEHICLE LICENSE                                            0.034169\n",
       "111 - SPEED OVER LEGAL|202 - DRIVERS LICENSE                                            0.031757\n",
       "                                                                                          ...   \n",
       "212 - THROWING LIGHTED MATERIALS|182 - SEATBELT|206 - VEHICLE LICENSE                   0.000003\n",
       "296 - OTHER|182 - SEATBELT|115 - RIGHT OF WAY                                           0.000003\n",
       "210 - THROWING DEBRIS|206 - VEHICLE LICENSE|202 - DRIVERS LICENSE                       0.000003\n",
       "145 - FAIL TO STOP - SIGN OR LIGHT|145 - FAIL TO STOP - SIGN OR LIGHT|182 - SEATBELT    0.000003\n",
       "296 - OTHER|282 - DRUGS|104 - DUI                                                       0.000003\n",
       "Name: violation, Length: 5224, dtype: float64"
      ]
     },
     "execution_count": 73,
     "metadata": {},
     "output_type": "execute_result"
    }
   ],
   "source": [
    "# cuando una mujer es detenida, que porcentaje es por exceso de velocidad?\n",
    "df[df['subject_sex'] == \"female\"][\"violation\"].value_counts(normalize=True)"
   ]
  },
  {
   "cell_type": "code",
   "execution_count": 74,
   "metadata": {},
   "outputs": [
    {
     "data": {
      "text/plain": [
       "subject_sex  violation                                                  \n",
       "female       111 - SPEED OVER LEGAL                                         0.407109\n",
       "             111 - SPEED OVER LEGAL|240 - INSURANCE                         0.060781\n",
       "             160 - LIGHT VIOLATIONS                                         0.051146\n",
       "             111 - SPEED OVER LEGAL|206 - VEHICLE LICENSE                   0.034169\n",
       "             111 - SPEED OVER LEGAL|202 - DRIVERS LICENSE                   0.031757\n",
       "                                                                              ...   \n",
       "male         SPEED|SEATBELT ( DRIVER )                                      0.000002\n",
       "             SPEED|SEATBELT ( DRIVER )|NO REGISTRATION                      0.000002\n",
       "             SPEED|SEATBELT ( DRIVER )|OTHER TAG/REGISTRATION VIOLATIONS    0.000002\n",
       "             VIOLATION OF DRIVERS LICENSE RESTRICTIONS                      0.000002\n",
       "             VIOLATIONS OF TRAFFIC CONTROL DEVICE                           0.000002\n",
       "Name: violation, Length: 14081, dtype: float64"
      ]
     },
     "execution_count": 74,
     "metadata": {},
     "output_type": "execute_result"
    }
   ],
   "source": [
    "# porcentaje agrupado por genero\n",
    "df.groupby(\"subject_sex\")[\"violation\"].value_counts(normalize=True)"
   ]
  },
  {
   "cell_type": "code",
   "execution_count": 75,
   "metadata": {},
   "outputs": [
    {
     "data": {
      "text/plain": [
       "Index(['raw_row_number', 'date', 'time', 'location', 'lat', 'lng',\n",
       "       'county_name', 'subject_age', 'subject_race', 'subject_sex',\n",
       "       'department_name', 'type', 'violation', 'arrest_made',\n",
       "       'citation_issued', 'warning_issued', 'outcome', 'frisk_performed',\n",
       "       'search_conducted', 'search_basis', 'reason_for_stop', 'vehicle_make',\n",
       "       'vehicle_model', 'vehicle_type', 'vehicle_registration_state',\n",
       "       'vehicle_year', 'raw_Race', 'raw_Ethnicity', 'raw_SearchType',\n",
       "       'raw_search_basis'],\n",
       "      dtype='object')"
      ]
     },
     "execution_count": 75,
     "metadata": {},
     "output_type": "execute_result"
    }
   ],
   "source": [
    "# año con el número mayor de detenciones\n",
    "df.columns"
   ]
  },
  {
   "cell_type": "code",
   "execution_count": 76,
   "metadata": {},
   "outputs": [],
   "source": [
    "# combinar celdas de fecha y tiempo\n",
    "combined = df[\"date\"] + \" \" + df['time']"
   ]
  },
  {
   "cell_type": "code",
   "execution_count": 77,
   "metadata": {},
   "outputs": [],
   "source": [
    "# convertir a columna de tiempo\n",
    "df['fecha'] = pd.to_datetime(combined)"
   ]
  },
  {
   "cell_type": "code",
   "execution_count": 78,
   "metadata": {},
   "outputs": [
    {
     "data": {
      "text/plain": [
       "raw_row_number                        object\n",
       "date                                  object\n",
       "time                                  object\n",
       "location                              object\n",
       "lat                                  float64\n",
       "lng                                  float64\n",
       "county_name                           object\n",
       "subject_age                          float64\n",
       "subject_race                          object\n",
       "subject_sex                           object\n",
       "department_name                       object\n",
       "type                                  object\n",
       "violation                             object\n",
       "arrest_made                             bool\n",
       "citation_issued                         bool\n",
       "warning_issued                          bool\n",
       "outcome                               object\n",
       "frisk_performed                       object\n",
       "search_conducted                        bool\n",
       "search_basis                          object\n",
       "reason_for_stop                       object\n",
       "vehicle_make                          object\n",
       "vehicle_model                         object\n",
       "vehicle_type                          object\n",
       "vehicle_registration_state            object\n",
       "vehicle_year                         float64\n",
       "raw_Race                              object\n",
       "raw_Ethnicity                         object\n",
       "raw_SearchType                        object\n",
       "raw_search_basis                      object\n",
       "fecha                         datetime64[ns]\n",
       "dtype: object"
      ]
     },
     "execution_count": 78,
     "metadata": {},
     "output_type": "execute_result"
    }
   ],
   "source": [
    "# corroborar tipo de dato de la columna\n",
    "df.dtypes"
   ]
  },
  {
   "cell_type": "code",
   "execution_count": 79,
   "metadata": {},
   "outputs": [
    {
     "data": {
      "text/plain": [
       "2010.0    124285\n",
       "2011.0    122839\n",
       "2012.0    117484\n",
       "2015.0    115927\n",
       "2013.0    114279\n",
       "2014.0    109743\n",
       "2016.0    102091\n",
       "2017.0     96134\n",
       "2009.0     18434\n",
       "Name: fecha, dtype: int64"
      ]
     },
     "execution_count": 79,
     "metadata": {},
     "output_type": "execute_result"
    }
   ],
   "source": [
    "# año con mayor número de detenciones\n",
    "df['fecha'].dt.year.value_counts()"
   ]
  },
  {
   "cell_type": "code",
   "execution_count": 80,
   "metadata": {},
   "outputs": [
    {
     "data": {
      "text/plain": [
       "9     13137\n",
       "8     12421\n",
       "7     12271\n",
       "5     11953\n",
       "10    11791\n",
       "3     10650\n",
       "6     10568\n",
       "4     10279\n",
       "2      9084\n",
       "11     7882\n",
       "1      7321\n",
       "12     6928\n",
       "Name: fecha, dtype: int64"
      ]
     },
     "execution_count": 80,
     "metadata": {},
     "output_type": "execute_result"
    }
   ],
   "source": [
    "# mes con mayor número de detenciones del 2010\n",
    "df[df['fecha'].dt.year == 2010]['fecha'].dt.month.value_counts()"
   ]
  },
  {
   "cell_type": "code",
   "execution_count": 81,
   "metadata": {},
   "outputs": [
    {
     "data": {
      "text/plain": [
       "1      7321\n",
       "2      9084\n",
       "3     10650\n",
       "4     10279\n",
       "5     11953\n",
       "6     10568\n",
       "7     12271\n",
       "8     12421\n",
       "9     13137\n",
       "10    11791\n",
       "11     7882\n",
       "12     6928\n",
       "Name: fecha, dtype: int64"
      ]
     },
     "execution_count": 81,
     "metadata": {},
     "output_type": "execute_result"
    }
   ],
   "source": [
    "# ordenar datos por índice\n",
    "df[df['fecha'].dt.year == 2010]['fecha'].dt.month.value_counts().sort_index()"
   ]
  },
  {
   "cell_type": "code",
   "execution_count": 82,
   "metadata": {},
   "outputs": [
    {
     "data": {
      "text/plain": [
       "<Axes: >"
      ]
     },
     "execution_count": 82,
     "metadata": {},
     "output_type": "execute_result"
    },
    {
     "data": {
      "image/png": "[encoded data removed]",
      "text/plain": [
       "<Figure size 640x480 with 1 Axes>"
      ]
     },
     "metadata": {},
     "output_type": "display_data"
    }
   ],
   "source": [
    "# gráficar los datos (línea)\n",
    "df[df['fecha'].dt.year == 2010]['fecha'].dt.month.value_counts().sort_index().plot()"
   ]
  },
  {
   "cell_type": "code",
   "execution_count": 83,
   "metadata": {},
   "outputs": [
    {
     "data": {
      "text/plain": [
       "<Axes: >"
      ]
     },
     "execution_count": 83,
     "metadata": {},
     "output_type": "execute_result"
    },
    {
     "data": {
      "image/png": "[encoded data removed]",
      "text/plain": [
       "<Figure size 640x480 with 1 Axes>"
      ]
     },
     "metadata": {},
     "output_type": "display_data"
    }
   ],
   "source": [
    "# gráficar los datos (barra)\n",
    "df[df['fecha'].dt.year == 2010]['fecha'].dt.month.value_counts().sort_index().plot(kind=\"bar\")"
   ]
  },
  {
   "cell_type": "code",
   "execution_count": 84,
   "metadata": {},
   "outputs": [
    {
     "data": {
      "text/plain": [
       "<Axes: >"
      ]
     },
     "execution_count": 84,
     "metadata": {},
     "output_type": "execute_result"
    },
    {
     "data": {
      "image/png": "[encoded data removed]",
      "text/plain": [
       "<Figure size 640x480 with 1 Axes>"
      ]
     },
     "metadata": {},
     "output_type": "display_data"
    }
   ],
   "source": [
    "# gráficar los datos (barra horizontal)\n",
    "df[df['fecha'].dt.year == 2010]['fecha'].dt.month.value_counts().sort_index().plot(kind=\"barh\")"
   ]
  },
  {
   "cell_type": "code",
   "execution_count": 85,
   "metadata": {},
   "outputs": [
    {
     "data": {
      "text/plain": [
       "<Axes: >"
      ]
     },
     "execution_count": 85,
     "metadata": {},
     "output_type": "execute_result"
    },
    {
     "data": {
      "image/png": "[encoded data removed]",
      "text/plain": [
       "<Figure size 640x480 with 1 Axes>"
      ]
     },
     "metadata": {},
     "output_type": "display_data"
    }
   ],
   "source": [
    "# aplicando estilo\n",
    "# gráficar los datos (barra horizontal)\n",
    "df[df['fecha'].dt.year == 2010]['fecha'].dt.month.value_counts().sort_index().plot(kind=\"barh\")"
   ]
  },
  {
   "cell_type": "code",
   "execution_count": 86,
   "metadata": {},
   "outputs": [
    {
     "data": {
      "text/plain": [
       "<Axes: title={'center': 'Detenciones 2010'}>"
      ]
     },
     "execution_count": 86,
     "metadata": {},
     "output_type": "execute_result"
    },
    {
     "data": {
      "image/png": "[encoded data removed]",
      "text/plain": [
       "<Figure size 640x480 with 1 Axes>"
      ]
     },
     "metadata": {},
     "output_type": "display_data"
    }
   ],
   "source": [
    "# gráficar los datos (barra y título)\n",
    "df[df['fecha'].dt.year == 2010]['fecha'].dt.month.value_counts().sort_index().plot(kind=\"barh\", title=\"Detenciones 2010\")"
   ]
  },
  {
   "cell_type": "code",
   "execution_count": 88,
   "metadata": {},
   "outputs": [
    {
     "data": {
      "text/plain": [
       "<Axes: >"
      ]
     },
     "execution_count": 88,
     "metadata": {},
     "output_type": "execute_result"
    },
    {
     "data": {
      "image/png": "[encoded data removed]",
      "text/plain": [
       "<Figure size 640x480 with 1 Axes>"
      ]
     },
     "metadata": {},
     "output_type": "display_data"
    }
   ],
   "source": [
    "# histograma de edades\n",
    "df['subject_age'].hist(bins=20)"
   ]
  },
  {
   "cell_type": "code",
   "execution_count": null,
   "metadata": {},
   "outputs": [],
   "source": []
  },
  {
   "cell_type": "code",
   "execution_count": null,
   "metadata": {},
   "outputs": [],
   "source": []
  }
 ],
 "metadata": {
  "kernelspec": {
   "display_name": "Python 3 (ipykernel)",
   "language": "python",
   "name": "python3"
  },
  "language_info": {
   "codemirror_mode": {
    "name": "ipython",
    "version": 3
   },
   "file_extension": ".py",
   "mimetype": "text/x-python",
   "name": "python",
   "nbconvert_exporter": "python",
   "pygments_lexer": "ipython3",
   "version": "3.11.5"
  }
 },
 "nbformat": 4,
 "nbformat_minor": 2
}
