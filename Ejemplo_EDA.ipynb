{
 "cells": [
  {
   "cell_type": "markdown",
   "id": "71b8a4e4",
   "metadata": {},
   "source": [
    "# EDA\n",
    "\n",
    "Exploratory Data Analysis refers to the critical process of performing initial investigations on data so as to discover patterns,to spot anomalies,to test hypothesis and to check assumptions with the help of summary statistics and graphical representations."
   ]
  },
  {
   "cell_type": "code",
   "execution_count": 1,
   "id": "42295796",
   "metadata": {},
   "outputs": [],
   "source": [
    "# librerías \n",
    "import numpy as np\n",
    "import pandas as pd\n",
    "import matplotlib.pyplot as plt\n",
    "\n",
    "%matplotlib inline"
   ]
  },
  {
   "cell_type": "code",
   "execution_count": 2,
   "id": "5a2cdd3a",
   "metadata": {},
   "outputs": [],
   "source": [
    "# leer archivo csv\n",
    "df = pd.read_csv(\"data/store_info.csv\")"
   ]
  },
  {
   "cell_type": "code",
   "execution_count": 3,
   "id": "28469ccc",
   "metadata": {},
   "outputs": [
    {
     "data": {
      "text/html": [
       "<div>\n",
       "<style scoped>\n",
       "    .dataframe tbody tr th:only-of-type {\n",
       "        vertical-align: middle;\n",
       "    }\n",
       "\n",
       "    .dataframe tbody tr th {\n",
       "        vertical-align: top;\n",
       "    }\n",
       "\n",
       "    .dataframe thead th {\n",
       "        text-align: right;\n",
       "    }\n",
       "</style>\n",
       "<table border=\"1\" class=\"dataframe\">\n",
       "  <thead>\n",
       "    <tr style=\"text-align: right;\">\n",
       "      <th></th>\n",
       "      <th>BranchName</th>\n",
       "      <th>Week</th>\n",
       "      <th>DayWeek</th>\n",
       "      <th>Day</th>\n",
       "      <th>Month</th>\n",
       "      <th>Hour</th>\n",
       "      <th>Transaction_Type</th>\n",
       "      <th>Units</th>\n",
       "      <th>Amount</th>\n",
       "    </tr>\n",
       "  </thead>\n",
       "  <tbody>\n",
       "    <tr>\n",
       "      <th>0</th>\n",
       "      <td>Tiendita</td>\n",
       "      <td>1</td>\n",
       "      <td>3</td>\n",
       "      <td>2</td>\n",
       "      <td>1</td>\n",
       "      <td>9</td>\n",
       "      <td>Card</td>\n",
       "      <td>3</td>\n",
       "      <td>$54.00</td>\n",
       "    </tr>\n",
       "    <tr>\n",
       "      <th>1</th>\n",
       "      <td>Tiendita</td>\n",
       "      <td>1</td>\n",
       "      <td>3</td>\n",
       "      <td>2</td>\n",
       "      <td>1</td>\n",
       "      <td>10</td>\n",
       "      <td>Cash</td>\n",
       "      <td>7</td>\n",
       "      <td>-$17.80</td>\n",
       "    </tr>\n",
       "    <tr>\n",
       "      <th>2</th>\n",
       "      <td>Tiendita</td>\n",
       "      <td>1</td>\n",
       "      <td>3</td>\n",
       "      <td>2</td>\n",
       "      <td>1</td>\n",
       "      <td>10</td>\n",
       "      <td>Card</td>\n",
       "      <td>7</td>\n",
       "      <td>$41.99</td>\n",
       "    </tr>\n",
       "    <tr>\n",
       "      <th>3</th>\n",
       "      <td>Tiendita</td>\n",
       "      <td>1</td>\n",
       "      <td>3</td>\n",
       "      <td>2</td>\n",
       "      <td>1</td>\n",
       "      <td>11</td>\n",
       "      <td>Card</td>\n",
       "      <td>20</td>\n",
       "      <td>$412.50</td>\n",
       "    </tr>\n",
       "    <tr>\n",
       "      <th>4</th>\n",
       "      <td>Tiendita</td>\n",
       "      <td>1</td>\n",
       "      <td>3</td>\n",
       "      <td>2</td>\n",
       "      <td>1</td>\n",
       "      <td>12</td>\n",
       "      <td>Cash</td>\n",
       "      <td>1</td>\n",
       "      <td>-$18.00</td>\n",
       "    </tr>\n",
       "  </tbody>\n",
       "</table>\n",
       "</div>"
      ],
      "text/plain": [
       "  BranchName  Week  DayWeek  Day  Month  Hour Transaction_Type  Units   Amount\n",
       "0   Tiendita     1        3    2      1     9             Card      3   $54.00\n",
       "1   Tiendita     1        3    2      1    10             Cash      7  -$17.80\n",
       "2   Tiendita     1        3    2      1    10             Card      7   $41.99\n",
       "3   Tiendita     1        3    2      1    11             Card     20  $412.50\n",
       "4   Tiendita     1        3    2      1    12             Cash      1  -$18.00"
      ]
     },
     "execution_count": 3,
     "metadata": {},
     "output_type": "execute_result"
    }
   ],
   "source": [
    "# visualizar el csv\n",
    "df.head()"
   ]
  },
  {
   "cell_type": "code",
   "execution_count": 4,
   "id": "62aef7a0",
   "metadata": {},
   "outputs": [
    {
     "data": {
      "text/html": [
       "<div>\n",
       "<style scoped>\n",
       "    .dataframe tbody tr th:only-of-type {\n",
       "        vertical-align: middle;\n",
       "    }\n",
       "\n",
       "    .dataframe tbody tr th {\n",
       "        vertical-align: top;\n",
       "    }\n",
       "\n",
       "    .dataframe thead th {\n",
       "        text-align: right;\n",
       "    }\n",
       "</style>\n",
       "<table border=\"1\" class=\"dataframe\">\n",
       "  <thead>\n",
       "    <tr style=\"text-align: right;\">\n",
       "      <th></th>\n",
       "      <th>BranchName</th>\n",
       "      <th>Week</th>\n",
       "      <th>DayWeek</th>\n",
       "      <th>Day</th>\n",
       "      <th>Month</th>\n",
       "      <th>Hour</th>\n",
       "      <th>Transaction_Type</th>\n",
       "      <th>Units</th>\n",
       "      <th>Amount</th>\n",
       "    </tr>\n",
       "  </thead>\n",
       "  <tbody>\n",
       "    <tr>\n",
       "      <th>4095</th>\n",
       "      <td>Tiendita</td>\n",
       "      <td>53</td>\n",
       "      <td>1</td>\n",
       "      <td>31</td>\n",
       "      <td>12</td>\n",
       "      <td>13</td>\n",
       "      <td>Card</td>\n",
       "      <td>10</td>\n",
       "      <td>$129.00</td>\n",
       "    </tr>\n",
       "    <tr>\n",
       "      <th>4096</th>\n",
       "      <td>Tiendita</td>\n",
       "      <td>53</td>\n",
       "      <td>1</td>\n",
       "      <td>31</td>\n",
       "      <td>12</td>\n",
       "      <td>14</td>\n",
       "      <td>Cash</td>\n",
       "      <td>32</td>\n",
       "      <td>-$68.36</td>\n",
       "    </tr>\n",
       "    <tr>\n",
       "      <th>4097</th>\n",
       "      <td>Tiendita</td>\n",
       "      <td>53</td>\n",
       "      <td>1</td>\n",
       "      <td>31</td>\n",
       "      <td>12</td>\n",
       "      <td>14</td>\n",
       "      <td>Card</td>\n",
       "      <td>5</td>\n",
       "      <td>$71.00</td>\n",
       "    </tr>\n",
       "    <tr>\n",
       "      <th>4098</th>\n",
       "      <td>Tiendita</td>\n",
       "      <td>53</td>\n",
       "      <td>1</td>\n",
       "      <td>31</td>\n",
       "      <td>12</td>\n",
       "      <td>15</td>\n",
       "      <td>Cash</td>\n",
       "      <td>66</td>\n",
       "      <td>-$359.18</td>\n",
       "    </tr>\n",
       "    <tr>\n",
       "      <th>4099</th>\n",
       "      <td>Tiendita</td>\n",
       "      <td>53</td>\n",
       "      <td>1</td>\n",
       "      <td>31</td>\n",
       "      <td>12</td>\n",
       "      <td>15</td>\n",
       "      <td>Card</td>\n",
       "      <td>4</td>\n",
       "      <td>$130.00</td>\n",
       "    </tr>\n",
       "  </tbody>\n",
       "</table>\n",
       "</div>"
      ],
      "text/plain": [
       "     BranchName  Week  DayWeek  Day  Month  Hour Transaction_Type  Units  \\\n",
       "4095   Tiendita    53        1   31     12    13             Card     10   \n",
       "4096   Tiendita    53        1   31     12    14             Cash     32   \n",
       "4097   Tiendita    53        1   31     12    14             Card      5   \n",
       "4098   Tiendita    53        1   31     12    15             Cash     66   \n",
       "4099   Tiendita    53        1   31     12    15             Card      4   \n",
       "\n",
       "        Amount  \n",
       "4095   $129.00  \n",
       "4096   -$68.36  \n",
       "4097    $71.00  \n",
       "4098  -$359.18  \n",
       "4099   $130.00  "
      ]
     },
     "execution_count": 4,
     "metadata": {},
     "output_type": "execute_result"
    }
   ],
   "source": [
    "df.tail()"
   ]
  },
  {
   "cell_type": "code",
   "execution_count": 5,
   "id": "4bc6c7a5",
   "metadata": {},
   "outputs": [
    {
     "data": {
      "text/html": [
       "<div>\n",
       "<style scoped>\n",
       "    .dataframe tbody tr th:only-of-type {\n",
       "        vertical-align: middle;\n",
       "    }\n",
       "\n",
       "    .dataframe tbody tr th {\n",
       "        vertical-align: top;\n",
       "    }\n",
       "\n",
       "    .dataframe thead th {\n",
       "        text-align: right;\n",
       "    }\n",
       "</style>\n",
       "<table border=\"1\" class=\"dataframe\">\n",
       "  <thead>\n",
       "    <tr style=\"text-align: right;\">\n",
       "      <th></th>\n",
       "      <th>BranchName</th>\n",
       "      <th>Week</th>\n",
       "      <th>DayWeek</th>\n",
       "      <th>Day</th>\n",
       "      <th>Month</th>\n",
       "      <th>Hour</th>\n",
       "      <th>Transaction_Type</th>\n",
       "      <th>Units</th>\n",
       "      <th>Amount</th>\n",
       "    </tr>\n",
       "  </thead>\n",
       "  <tbody>\n",
       "    <tr>\n",
       "      <th>0</th>\n",
       "      <td>Tiendita</td>\n",
       "      <td>1</td>\n",
       "      <td>3</td>\n",
       "      <td>2</td>\n",
       "      <td>1</td>\n",
       "      <td>9</td>\n",
       "      <td>Card</td>\n",
       "      <td>3</td>\n",
       "      <td>$54.00</td>\n",
       "    </tr>\n",
       "    <tr>\n",
       "      <th>1</th>\n",
       "      <td>Tiendita</td>\n",
       "      <td>1</td>\n",
       "      <td>3</td>\n",
       "      <td>2</td>\n",
       "      <td>1</td>\n",
       "      <td>10</td>\n",
       "      <td>Cash</td>\n",
       "      <td>7</td>\n",
       "      <td>-$17.80</td>\n",
       "    </tr>\n",
       "    <tr>\n",
       "      <th>2</th>\n",
       "      <td>Tiendita</td>\n",
       "      <td>1</td>\n",
       "      <td>3</td>\n",
       "      <td>2</td>\n",
       "      <td>1</td>\n",
       "      <td>10</td>\n",
       "      <td>Card</td>\n",
       "      <td>7</td>\n",
       "      <td>$41.99</td>\n",
       "    </tr>\n",
       "    <tr>\n",
       "      <th>3</th>\n",
       "      <td>Tiendita</td>\n",
       "      <td>1</td>\n",
       "      <td>3</td>\n",
       "      <td>2</td>\n",
       "      <td>1</td>\n",
       "      <td>11</td>\n",
       "      <td>Card</td>\n",
       "      <td>20</td>\n",
       "      <td>$412.50</td>\n",
       "    </tr>\n",
       "    <tr>\n",
       "      <th>4</th>\n",
       "      <td>Tiendita</td>\n",
       "      <td>1</td>\n",
       "      <td>3</td>\n",
       "      <td>2</td>\n",
       "      <td>1</td>\n",
       "      <td>12</td>\n",
       "      <td>Cash</td>\n",
       "      <td>1</td>\n",
       "      <td>-$18.00</td>\n",
       "    </tr>\n",
       "    <tr>\n",
       "      <th>5</th>\n",
       "      <td>Tiendita</td>\n",
       "      <td>1</td>\n",
       "      <td>3</td>\n",
       "      <td>2</td>\n",
       "      <td>1</td>\n",
       "      <td>12</td>\n",
       "      <td>Card</td>\n",
       "      <td>1</td>\n",
       "      <td>-$5.00</td>\n",
       "    </tr>\n",
       "    <tr>\n",
       "      <th>6</th>\n",
       "      <td>Tiendita</td>\n",
       "      <td>1</td>\n",
       "      <td>3</td>\n",
       "      <td>2</td>\n",
       "      <td>1</td>\n",
       "      <td>12</td>\n",
       "      <td>Card</td>\n",
       "      <td>15</td>\n",
       "      <td>$118.50</td>\n",
       "    </tr>\n",
       "    <tr>\n",
       "      <th>7</th>\n",
       "      <td>Tiendita</td>\n",
       "      <td>1</td>\n",
       "      <td>3</td>\n",
       "      <td>2</td>\n",
       "      <td>1</td>\n",
       "      <td>13</td>\n",
       "      <td>Cash</td>\n",
       "      <td>90</td>\n",
       "      <td>-$94.92</td>\n",
       "    </tr>\n",
       "    <tr>\n",
       "      <th>8</th>\n",
       "      <td>Tiendita</td>\n",
       "      <td>1</td>\n",
       "      <td>3</td>\n",
       "      <td>2</td>\n",
       "      <td>1</td>\n",
       "      <td>13</td>\n",
       "      <td>Card</td>\n",
       "      <td>28</td>\n",
       "      <td>$423.50</td>\n",
       "    </tr>\n",
       "    <tr>\n",
       "      <th>9</th>\n",
       "      <td>Tiendita</td>\n",
       "      <td>1</td>\n",
       "      <td>3</td>\n",
       "      <td>2</td>\n",
       "      <td>1</td>\n",
       "      <td>14</td>\n",
       "      <td>Cash</td>\n",
       "      <td>34</td>\n",
       "      <td>-$95.39</td>\n",
       "    </tr>\n",
       "  </tbody>\n",
       "</table>\n",
       "</div>"
      ],
      "text/plain": [
       "  BranchName  Week  DayWeek  Day  Month  Hour Transaction_Type  Units   Amount\n",
       "0   Tiendita     1        3    2      1     9             Card      3   $54.00\n",
       "1   Tiendita     1        3    2      1    10             Cash      7  -$17.80\n",
       "2   Tiendita     1        3    2      1    10             Card      7   $41.99\n",
       "3   Tiendita     1        3    2      1    11             Card     20  $412.50\n",
       "4   Tiendita     1        3    2      1    12             Cash      1  -$18.00\n",
       "5   Tiendita     1        3    2      1    12             Card      1   -$5.00\n",
       "6   Tiendita     1        3    2      1    12             Card     15  $118.50\n",
       "7   Tiendita     1        3    2      1    13             Cash     90  -$94.92\n",
       "8   Tiendita     1        3    2      1    13             Card     28  $423.50\n",
       "9   Tiendita     1        3    2      1    14             Cash     34  -$95.39"
      ]
     },
     "execution_count": 5,
     "metadata": {},
     "output_type": "execute_result"
    }
   ],
   "source": [
    "df.head(10)"
   ]
  },
  {
   "cell_type": "code",
   "execution_count": 6,
   "id": "f05f2131",
   "metadata": {},
   "outputs": [
    {
     "name": "stdout",
     "output_type": "stream",
     "text": [
      "<class 'pandas.core.frame.DataFrame'>\n",
      "RangeIndex: 4100 entries, 0 to 4099\n",
      "Data columns (total 9 columns):\n",
      " #   Column            Non-Null Count  Dtype \n",
      "---  ------            --------------  ----- \n",
      " 0   BranchName        4100 non-null   object\n",
      " 1   Week              4100 non-null   int64 \n",
      " 2   DayWeek           4100 non-null   int64 \n",
      " 3   Day               4100 non-null   int64 \n",
      " 4   Month             4100 non-null   int64 \n",
      " 5   Hour              4100 non-null   int64 \n",
      " 6   Transaction_Type  4100 non-null   object\n",
      " 7   Units             4100 non-null   int64 \n",
      " 8   Amount            4100 non-null   object\n",
      "dtypes: int64(6), object(3)\n",
      "memory usage: 288.4+ KB\n"
     ]
    }
   ],
   "source": [
    "# visualizar la info de un df\n",
    "df.info()"
   ]
  },
  {
   "cell_type": "code",
   "execution_count": 7,
   "id": "f684bb7b",
   "metadata": {},
   "outputs": [
    {
     "data": {
      "text/plain": [
       "0     $54.00\n",
       "1    -$17.80\n",
       "2     $41.99\n",
       "3    $412.50\n",
       "4    -$18.00\n",
       "Name: Amount, dtype: object"
      ]
     },
     "execution_count": 7,
     "metadata": {},
     "output_type": "execute_result"
    }
   ],
   "source": [
    "# visualizar una columna\n",
    "df['Amount'].head()"
   ]
  },
  {
   "cell_type": "code",
   "execution_count": 11,
   "id": "8a44d5bb",
   "metadata": {},
   "outputs": [],
   "source": [
    "# eliminar el signo de $\n",
    "df[\"Amount\"] = df[\"Amount\"].replace('$','').replace(',','')"
   ]
  },
  {
   "cell_type": "code",
   "execution_count": 12,
   "id": "0c1dda57",
   "metadata": {},
   "outputs": [
    {
     "data": {
      "text/html": [
       "<div>\n",
       "<style scoped>\n",
       "    .dataframe tbody tr th:only-of-type {\n",
       "        vertical-align: middle;\n",
       "    }\n",
       "\n",
       "    .dataframe tbody tr th {\n",
       "        vertical-align: top;\n",
       "    }\n",
       "\n",
       "    .dataframe thead th {\n",
       "        text-align: right;\n",
       "    }\n",
       "</style>\n",
       "<table border=\"1\" class=\"dataframe\">\n",
       "  <thead>\n",
       "    <tr style=\"text-align: right;\">\n",
       "      <th></th>\n",
       "      <th>BranchName</th>\n",
       "      <th>Week</th>\n",
       "      <th>DayWeek</th>\n",
       "      <th>Day</th>\n",
       "      <th>Month</th>\n",
       "      <th>Hour</th>\n",
       "      <th>Transaction_Type</th>\n",
       "      <th>Units</th>\n",
       "      <th>Amount</th>\n",
       "    </tr>\n",
       "  </thead>\n",
       "  <tbody>\n",
       "    <tr>\n",
       "      <th>0</th>\n",
       "      <td>Tiendita</td>\n",
       "      <td>1</td>\n",
       "      <td>3</td>\n",
       "      <td>2</td>\n",
       "      <td>1</td>\n",
       "      <td>9</td>\n",
       "      <td>Card</td>\n",
       "      <td>3</td>\n",
       "      <td>54.00</td>\n",
       "    </tr>\n",
       "    <tr>\n",
       "      <th>1</th>\n",
       "      <td>Tiendita</td>\n",
       "      <td>1</td>\n",
       "      <td>3</td>\n",
       "      <td>2</td>\n",
       "      <td>1</td>\n",
       "      <td>10</td>\n",
       "      <td>Cash</td>\n",
       "      <td>7</td>\n",
       "      <td>-17.80</td>\n",
       "    </tr>\n",
       "    <tr>\n",
       "      <th>2</th>\n",
       "      <td>Tiendita</td>\n",
       "      <td>1</td>\n",
       "      <td>3</td>\n",
       "      <td>2</td>\n",
       "      <td>1</td>\n",
       "      <td>10</td>\n",
       "      <td>Card</td>\n",
       "      <td>7</td>\n",
       "      <td>41.99</td>\n",
       "    </tr>\n",
       "    <tr>\n",
       "      <th>3</th>\n",
       "      <td>Tiendita</td>\n",
       "      <td>1</td>\n",
       "      <td>3</td>\n",
       "      <td>2</td>\n",
       "      <td>1</td>\n",
       "      <td>11</td>\n",
       "      <td>Card</td>\n",
       "      <td>20</td>\n",
       "      <td>412.50</td>\n",
       "    </tr>\n",
       "    <tr>\n",
       "      <th>4</th>\n",
       "      <td>Tiendita</td>\n",
       "      <td>1</td>\n",
       "      <td>3</td>\n",
       "      <td>2</td>\n",
       "      <td>1</td>\n",
       "      <td>12</td>\n",
       "      <td>Cash</td>\n",
       "      <td>1</td>\n",
       "      <td>-18.00</td>\n",
       "    </tr>\n",
       "  </tbody>\n",
       "</table>\n",
       "</div>"
      ],
      "text/plain": [
       "  BranchName  Week  DayWeek  Day  Month  Hour Transaction_Type  Units  Amount\n",
       "0   Tiendita     1        3    2      1     9             Card      3   54.00\n",
       "1   Tiendita     1        3    2      1    10             Cash      7  -17.80\n",
       "2   Tiendita     1        3    2      1    10             Card      7   41.99\n",
       "3   Tiendita     1        3    2      1    11             Card     20  412.50\n",
       "4   Tiendita     1        3    2      1    12             Cash      1  -18.00"
      ]
     },
     "execution_count": 12,
     "metadata": {},
     "output_type": "execute_result"
    }
   ],
   "source": [
    "df.head()"
   ]
  },
  {
   "cell_type": "code",
   "execution_count": 13,
   "id": "f38c2651",
   "metadata": {},
   "outputs": [
    {
     "name": "stdout",
     "output_type": "stream",
     "text": [
      "<class 'pandas.core.frame.DataFrame'>\n",
      "RangeIndex: 4100 entries, 0 to 4099\n",
      "Data columns (total 9 columns):\n",
      " #   Column            Non-Null Count  Dtype \n",
      "---  ------            --------------  ----- \n",
      " 0   BranchName        4100 non-null   object\n",
      " 1   Week              4100 non-null   int64 \n",
      " 2   DayWeek           4100 non-null   int64 \n",
      " 3   Day               4100 non-null   int64 \n",
      " 4   Month             4100 non-null   int64 \n",
      " 5   Hour              4100 non-null   int64 \n",
      " 6   Transaction_Type  4100 non-null   object\n",
      " 7   Units             4100 non-null   int64 \n",
      " 8   Amount            4100 non-null   object\n",
      "dtypes: int64(6), object(3)\n",
      "memory usage: 288.4+ KB\n"
     ]
    }
   ],
   "source": [
    "df.info()"
   ]
  },
  {
   "cell_type": "code",
   "execution_count": 14,
   "id": "5326efae",
   "metadata": {},
   "outputs": [],
   "source": [
    "df['Amount'] = pd.to_numeric(df['Amount'])"
   ]
  },
  {
   "cell_type": "code",
   "execution_count": 15,
   "id": "16d5541a",
   "metadata": {},
   "outputs": [
    {
     "name": "stdout",
     "output_type": "stream",
     "text": [
      "<class 'pandas.core.frame.DataFrame'>\n",
      "RangeIndex: 4100 entries, 0 to 4099\n",
      "Data columns (total 9 columns):\n",
      " #   Column            Non-Null Count  Dtype  \n",
      "---  ------            --------------  -----  \n",
      " 0   BranchName        4100 non-null   object \n",
      " 1   Week              4100 non-null   int64  \n",
      " 2   DayWeek           4100 non-null   int64  \n",
      " 3   Day               4100 non-null   int64  \n",
      " 4   Month             4100 non-null   int64  \n",
      " 5   Hour              4100 non-null   int64  \n",
      " 6   Transaction_Type  4100 non-null   object \n",
      " 7   Units             4100 non-null   int64  \n",
      " 8   Amount            4100 non-null   float64\n",
      "dtypes: float64(1), int64(6), object(2)\n",
      "memory usage: 288.4+ KB\n"
     ]
    }
   ],
   "source": [
    "df.info()"
   ]
  },
  {
   "cell_type": "code",
   "execution_count": 16,
   "id": "7b9f5393",
   "metadata": {},
   "outputs": [
    {
     "data": {
      "text/html": [
       "<div>\n",
       "<style scoped>\n",
       "    .dataframe tbody tr th:only-of-type {\n",
       "        vertical-align: middle;\n",
       "    }\n",
       "\n",
       "    .dataframe tbody tr th {\n",
       "        vertical-align: top;\n",
       "    }\n",
       "\n",
       "    .dataframe thead th {\n",
       "        text-align: right;\n",
       "    }\n",
       "</style>\n",
       "<table border=\"1\" class=\"dataframe\">\n",
       "  <thead>\n",
       "    <tr style=\"text-align: right;\">\n",
       "      <th></th>\n",
       "      <th>Week</th>\n",
       "      <th>DayWeek</th>\n",
       "      <th>Day</th>\n",
       "      <th>Month</th>\n",
       "      <th>Hour</th>\n",
       "      <th>Units</th>\n",
       "      <th>Amount</th>\n",
       "    </tr>\n",
       "  </thead>\n",
       "  <tbody>\n",
       "    <tr>\n",
       "      <th>count</th>\n",
       "      <td>4100.000000</td>\n",
       "      <td>4100.000000</td>\n",
       "      <td>4100.000000</td>\n",
       "      <td>4100.000000</td>\n",
       "      <td>4100.000000</td>\n",
       "      <td>4100.000000</td>\n",
       "      <td>4100.000000</td>\n",
       "    </tr>\n",
       "    <tr>\n",
       "      <th>mean</th>\n",
       "      <td>34.017805</td>\n",
       "      <td>4.183902</td>\n",
       "      <td>15.812195</td>\n",
       "      <td>8.231463</td>\n",
       "      <td>12.949024</td>\n",
       "      <td>12.779512</td>\n",
       "      <td>35.237046</td>\n",
       "    </tr>\n",
       "    <tr>\n",
       "      <th>std</th>\n",
       "      <td>14.714289</td>\n",
       "      <td>1.967864</td>\n",
       "      <td>8.810817</td>\n",
       "      <td>3.396586</td>\n",
       "      <td>2.631853</td>\n",
       "      <td>17.854968</td>\n",
       "      <td>183.538724</td>\n",
       "    </tr>\n",
       "    <tr>\n",
       "      <th>min</th>\n",
       "      <td>1.000000</td>\n",
       "      <td>1.000000</td>\n",
       "      <td>1.000000</td>\n",
       "      <td>1.000000</td>\n",
       "      <td>8.000000</td>\n",
       "      <td>1.000000</td>\n",
       "      <td>-1041.800000</td>\n",
       "    </tr>\n",
       "    <tr>\n",
       "      <th>25%</th>\n",
       "      <td>29.000000</td>\n",
       "      <td>3.000000</td>\n",
       "      <td>8.000000</td>\n",
       "      <td>7.000000</td>\n",
       "      <td>11.000000</td>\n",
       "      <td>3.000000</td>\n",
       "      <td>-47.000000</td>\n",
       "    </tr>\n",
       "    <tr>\n",
       "      <th>50%</th>\n",
       "      <td>37.000000</td>\n",
       "      <td>4.000000</td>\n",
       "      <td>16.000000</td>\n",
       "      <td>9.000000</td>\n",
       "      <td>13.000000</td>\n",
       "      <td>8.000000</td>\n",
       "      <td>-2.385000</td>\n",
       "    </tr>\n",
       "    <tr>\n",
       "      <th>75%</th>\n",
       "      <td>45.000000</td>\n",
       "      <td>6.000000</td>\n",
       "      <td>23.000000</td>\n",
       "      <td>11.000000</td>\n",
       "      <td>15.000000</td>\n",
       "      <td>16.000000</td>\n",
       "      <td>99.512500</td>\n",
       "    </tr>\n",
       "    <tr>\n",
       "      <th>max</th>\n",
       "      <td>53.000000</td>\n",
       "      <td>7.000000</td>\n",
       "      <td>31.000000</td>\n",
       "      <td>12.000000</td>\n",
       "      <td>19.000000</td>\n",
       "      <td>274.000000</td>\n",
       "      <td>1487.000000</td>\n",
       "    </tr>\n",
       "  </tbody>\n",
       "</table>\n",
       "</div>"
      ],
      "text/plain": [
       "              Week      DayWeek          Day        Month         Hour  \\\n",
       "count  4100.000000  4100.000000  4100.000000  4100.000000  4100.000000   \n",
       "mean     34.017805     4.183902    15.812195     8.231463    12.949024   \n",
       "std      14.714289     1.967864     8.810817     3.396586     2.631853   \n",
       "min       1.000000     1.000000     1.000000     1.000000     8.000000   \n",
       "25%      29.000000     3.000000     8.000000     7.000000    11.000000   \n",
       "50%      37.000000     4.000000    16.000000     9.000000    13.000000   \n",
       "75%      45.000000     6.000000    23.000000    11.000000    15.000000   \n",
       "max      53.000000     7.000000    31.000000    12.000000    19.000000   \n",
       "\n",
       "             Units       Amount  \n",
       "count  4100.000000  4100.000000  \n",
       "mean     12.779512    35.237046  \n",
       "std      17.854968   183.538724  \n",
       "min       1.000000 -1041.800000  \n",
       "25%       3.000000   -47.000000  \n",
       "50%       8.000000    -2.385000  \n",
       "75%      16.000000    99.512500  \n",
       "max     274.000000  1487.000000  "
      ]
     },
     "execution_count": 16,
     "metadata": {},
     "output_type": "execute_result"
    }
   ],
   "source": [
    "df.describe()"
   ]
  },
  {
   "cell_type": "code",
   "execution_count": 21,
   "id": "9e611f72",
   "metadata": {},
   "outputs": [
    {
     "data": {
      "image/png": "[encoded data removed]",
      "text/plain": [
       "<Figure size 640x480 with 1 Axes>"
      ]
     },
     "metadata": {},
     "output_type": "display_data"
    }
   ],
   "source": [
    "# distribución de las ventas\n",
    "plt.hist(df[\"Amount\"], \n",
    "         bins=50, \n",
    "         density=1, \n",
    "         facecolor=\"blue\", \n",
    "         alpha=0.7)\n",
    "\n",
    "plt.show()"
   ]
  },
  {
   "cell_type": "code",
   "execution_count": 22,
   "id": "59aab066",
   "metadata": {},
   "outputs": [
    {
     "name": "stdout",
     "output_type": "stream",
     "text": [
      "Month\n",
      "1     604\n",
      "7     606\n",
      "8     572\n",
      "9     580\n",
      "10    581\n",
      "11    587\n",
      "12    570\n",
      "dtype: int64\n"
     ]
    }
   ],
   "source": [
    "# Ventas mensuales\n",
    "sales_by_month = df.groupby('Month').size()\n",
    "\n",
    "print(sales_by_month)"
   ]
  },
  {
   "cell_type": "code",
   "execution_count": 23,
   "id": "7d8fc404",
   "metadata": {},
   "outputs": [
    {
     "name": "stdout",
     "output_type": "stream",
     "text": [
      "DayWeek\n",
      "1    462\n",
      "2    548\n",
      "3    596\n",
      "4    611\n",
      "5    602\n",
      "6    613\n",
      "7    668\n",
      "dtype: int64\n"
     ]
    }
   ],
   "source": [
    "# Ventas mensuales\n",
    "sales_by_month = df.groupby('DayWeek').size()\n",
    "\n",
    "print(sales_by_month)"
   ]
  },
  {
   "cell_type": "code",
   "execution_count": 24,
   "id": "60da69b7",
   "metadata": {},
   "outputs": [
    {
     "name": "stdout",
     "output_type": "stream",
     "text": [
      "Day\n",
      "1     121\n",
      "2     144\n",
      "3     133\n",
      "4     137\n",
      "5     133\n",
      "6     138\n",
      "7     123\n",
      "8     118\n",
      "9     137\n",
      "10    137\n",
      "11    140\n",
      "12    141\n",
      "13    138\n",
      "14    139\n",
      "15    141\n",
      "16    133\n",
      "17    122\n",
      "18    151\n",
      "19    137\n",
      "20    130\n",
      "21    136\n",
      "22    133\n",
      "23    145\n",
      "24    124\n",
      "25    112\n",
      "26    123\n",
      "27    135\n",
      "28    138\n",
      "29    145\n",
      "30    138\n",
      "31     78\n",
      "dtype: int64\n"
     ]
    }
   ],
   "source": [
    "# Ventas Day\n",
    "sales_by_month = df.groupby('Day').size()\n",
    "\n",
    "print(sales_by_month)"
   ]
  },
  {
   "cell_type": "code",
   "execution_count": 25,
   "id": "1e6d0c35",
   "metadata": {},
   "outputs": [
    {
     "data": {
      "text/plain": [
       "Text(0, 0.5, 'Venta Total')"
      ]
     },
     "execution_count": 25,
     "metadata": {},
     "output_type": "execute_result"
    },
    {
     "data": {
      "image/png": "[encoded data removed]",
      "text/plain": [
       "<Figure size 640x480 with 1 Axes>"
      ]
     },
     "metadata": {},
     "output_type": "display_data"
    }
   ],
   "source": [
    "sales_by_day = df.groupby(\"Day\").size()\n",
    "plot_by_day = sales_by_day.plot(title=\"Ventas Diarias\", xticks=(range(1,31)))\n",
    "plot_by_day.set_xlabel(\"Día\")\n",
    "plot_by_day.set_ylabel(\"Venta Total\")"
   ]
  },
  {
   "cell_type": "code",
   "execution_count": 26,
   "id": "be47a6e1",
   "metadata": {},
   "outputs": [
    {
     "data": {
      "text/plain": [
       "Text(0, 0.5, 'Venta Total')"
      ]
     },
     "execution_count": 26,
     "metadata": {},
     "output_type": "execute_result"
    },
    {
     "data": {
      "image/png": "[encoded data removed]",
      "text/plain": [
       "<Figure size 1500x500 with 1 Axes>"
      ]
     },
     "metadata": {},
     "output_type": "display_data"
    }
   ],
   "source": [
    "fig = plt.figure(figsize=(15,5))\n",
    "sales_by_day = df.groupby(\"Day\").size()\n",
    "plot_by_day = sales_by_day.plot(title=\"Ventas Diarias\", xticks=(range(1,31)))\n",
    "plot_by_day.set_xlabel(\"Día\")\n",
    "plot_by_day.set_ylabel(\"Venta Total\")"
   ]
  },
  {
   "cell_type": "code",
   "execution_count": 27,
   "id": "fb229110",
   "metadata": {},
   "outputs": [
    {
     "data": {
      "text/plain": [
       "Day\n",
       "1     121\n",
       "2     144\n",
       "3     133\n",
       "4     137\n",
       "5     133\n",
       "6     138\n",
       "7     123\n",
       "8     118\n",
       "9     137\n",
       "10    137\n",
       "11    140\n",
       "12    141\n",
       "13    138\n",
       "14    139\n",
       "15    141\n",
       "16    133\n",
       "17    122\n",
       "18    151\n",
       "19    137\n",
       "20    130\n",
       "21    136\n",
       "22    133\n",
       "23    145\n",
       "24    124\n",
       "25    112\n",
       "26    123\n",
       "27    135\n",
       "28    138\n",
       "29    145\n",
       "30    138\n",
       "31     78\n",
       "dtype: int64"
      ]
     },
     "execution_count": 27,
     "metadata": {},
     "output_type": "execute_result"
    }
   ],
   "source": [
    "sales_by_day"
   ]
  },
  {
   "cell_type": "code",
   "execution_count": 28,
   "id": "b75b49f6",
   "metadata": {},
   "outputs": [
    {
     "data": {
      "text/plain": [
       "18"
      ]
     },
     "execution_count": 28,
     "metadata": {},
     "output_type": "execute_result"
    }
   ],
   "source": [
    "sales_by_day.idxmax()"
   ]
  },
  {
   "cell_type": "code",
   "execution_count": 29,
   "id": "f3af5c15",
   "metadata": {},
   "outputs": [
    {
     "data": {
      "text/plain": [
       "151"
      ]
     },
     "execution_count": 29,
     "metadata": {},
     "output_type": "execute_result"
    }
   ],
   "source": [
    "sales_by_day.max()"
   ]
  },
  {
   "cell_type": "code",
   "execution_count": 30,
   "id": "a229ce1a",
   "metadata": {},
   "outputs": [
    {
     "data": {
      "text/plain": [
       "31"
      ]
     },
     "execution_count": 30,
     "metadata": {},
     "output_type": "execute_result"
    }
   ],
   "source": [
    "sales_by_day.idxmin()"
   ]
  },
  {
   "cell_type": "code",
   "execution_count": 31,
   "id": "715b67a8",
   "metadata": {},
   "outputs": [
    {
     "data": {
      "text/plain": [
       "78"
      ]
     },
     "execution_count": 31,
     "metadata": {},
     "output_type": "execute_result"
    }
   ],
   "source": [
    "sales_by_day.min()"
   ]
  },
  {
   "cell_type": "code",
   "execution_count": 34,
   "id": "bcc00ba8",
   "metadata": {},
   "outputs": [
    {
     "data": {
      "text/plain": [
       "Text(19, 151, 'Mejor Venta')"
      ]
     },
     "execution_count": 34,
     "metadata": {},
     "output_type": "execute_result"
    },
    {
     "data": {
      "image/png": "[encoded data removed]",
      "text/plain": [
       "<Figure size 1500x500 with 1 Axes>"
      ]
     },
     "metadata": {},
     "output_type": "display_data"
    }
   ],
   "source": [
    "# visualizar el día con mejor venta\n",
    "fig = plt.figure(figsize=(15,5))\n",
    "sales_by_day = df.groupby('Day').size()\n",
    "plot_by_day = sales_by_day.plot(title=\"Ventas Diarias\", xticks=(range(1,31)))\n",
    "plot_by_day.set_xlabel(\"Día\")\n",
    "plot_by_day.set_ylabel(\"Venta Total\")\n",
    "plot_by_day.text(sales_by_day.idxmax() + 1, sales_by_day.max(), \"Mejor Venta\")"
   ]
  },
  {
   "cell_type": "code",
   "execution_count": 36,
   "id": "54f30a6d",
   "metadata": {},
   "outputs": [
    {
     "data": {
      "text/plain": [
       "Text(0, 0.5, 'Venta Total')"
      ]
     },
     "execution_count": 36,
     "metadata": {},
     "output_type": "execute_result"
    },
    {
     "data": {
      "image/png": "[encoded data removed]",
      "text/plain": [
       "<Figure size 1500x500 with 1 Axes>"
      ]
     },
     "metadata": {},
     "output_type": "display_data"
    }
   ],
   "source": [
    "# visualizar el día con mejor venta\n",
    "fig = plt.figure(figsize=(15,5))\n",
    "sales_by_hour = df.groupby('Hour').size()\n",
    "plot_by_hour = sales_by_hour.plot(title=\"Ventas por Hora\", xticks=(range(1,24)))\n",
    "plot_by_hour.set_xlabel(\"Hour\")\n",
    "plot_by_hour.set_ylabel(\"Venta Total\")\n",
    "#plot_by_hour.text(sales_by_hour.idxmax() + 1, sales_by_hour.max(), \"Mejor Venta\")"
   ]
  },
  {
   "cell_type": "code",
   "execution_count": null,
   "id": "ce37d398",
   "metadata": {},
   "outputs": [],
   "source": []
  }
 ],
 "metadata": {
  "kernelspec": {
   "display_name": "Python 3 (ipykernel)",
   "language": "python",
   "name": "python3"
  },
  "language_info": {
   "codemirror_mode": {
    "name": "ipython",
    "version": 3
   },
   "file_extension": ".py",
   "mimetype": "text/x-python",
   "name": "python",
   "nbconvert_exporter": "python",
   "pygments_lexer": "ipython3",
   "version": "3.11.5"
  }
 },
 "nbformat": 4,
 "nbformat_minor": 5
}
